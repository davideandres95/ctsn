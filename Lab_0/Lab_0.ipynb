{
 "cells": [
  {
   "cell_type": "markdown",
   "id": "24e62138",
   "metadata": {},
   "source": [
    "# Coding Theory for Storage and Networks\n",
    "## Lab Introduction: Finite Field in Sage\n",
    "Version 1, 21-01-2018\n"
   ]
  },
  {
   "cell_type": "code",
   "execution_count": 2,
   "id": "4d5300e8",
   "metadata": {},
   "outputs": [
    {
     "name": "stdout",
     "output_type": "stream",
     "text": [
      "----Task 1 Defining finite field elements and performing basic operations----\n"
     ]
    }
   ],
   "source": [
    "### --------Assignment--------\n",
    "\n",
    "### --------------------------------\n",
    "print(\"----Task 1 Defining finite field elements and performing basic operations----\")\n",
    "### --------------------------------\n",
    "p = 2\n",
    "m = 4\n",
    "q = p^m"
   ]
  },
  {
   "cell_type": "code",
   "execution_count": 6,
   "id": "db5f6c76",
   "metadata": {},
   "outputs": [],
   "source": [
    "# ----Task 1.1----\n",
    "# Define the field F_q with a primitive element named a.\n",
    "F.<a> = GF(q,'a')"
   ]
  },
  {
   "cell_type": "code",
   "execution_count": 7,
   "id": "bde7698d",
   "metadata": {},
   "outputs": [],
   "source": [
    "# ----Task 1.2----\n",
    "# Define two elements.\n",
    "ele1 = a^2 + 1\n",
    "ele2 = a^2 + a"
   ]
  },
  {
   "cell_type": "code",
   "execution_count": 8,
   "id": "9c249384",
   "metadata": {},
   "outputs": [
    {
     "name": "stdout",
     "output_type": "stream",
     "text": [
      "[1, a^2 + 1, a, a^3 + a, a^2, a^2 + a + 1, a^3, a^3 + a^2 + a, a + 1, a^3 + a^2 + a + 1, a^2 + a, a^3 + a^2 + 1, a^3 + a^2, a^3 + 1, a^3 + a + 1]\n",
      "[1, a^2 + a, a^2 + a + 1, 1, a^2 + a, a^2 + a + 1, 1, a^2 + a, a^2 + a + 1, 1, a^2 + a, a^2 + a + 1, 1, a^2 + a, a^2 + a + 1]\n"
     ]
    }
   ],
   "source": [
    "# calculate the logarithm w.r.t a\n",
    "log1 = log(ele1, a)\n",
    "log2 = log(ele2, a)\n",
    "\n",
    "# check primitivity\n",
    "powers1 = [ ele1^i for i in range(0, 15) ]\n",
    "powers2 = [ ele2^i for i in range(0, 15) ]\n",
    "print(powers1)\n",
    "print(powers2)"
   ]
  },
  {
   "cell_type": "code",
   "execution_count": 9,
   "id": "88a590ca",
   "metadata": {},
   "outputs": [
    {
     "name": "stdout",
     "output_type": "stream",
     "text": [
      "----Task 2 Plynomials over finite fields----\n"
     ]
    }
   ],
   "source": [
    "# --------------------------------\n",
    "print(\"----Task 2 Plynomials over finite fields----\")\n",
    "# --------------------------------\n",
    "\n",
    "G.<x> = F[] # First possibility\n",
    "G.<x> = PolynomialRing(F) # Second possibility\n",
    "G = PolynomialRing(F, 'x') # Third possibility\n",
    "x = polygen(F) # Forth possibility"
   ]
  },
  {
   "cell_type": "code",
   "execution_count": 10,
   "id": "49bdc4dd",
   "metadata": {},
   "outputs": [
    {
     "name": "stdout",
     "output_type": "stream",
     "text": [
      "The coefficients are\n",
      "[a + 1, a^3, a^3 + a^2 + a, a^3 + a^2 + a, a^2, 1]\n"
     ]
    }
   ],
   "source": [
    "# ----Task 2.1----\n",
    "# Represent the polynomial\n",
    "poly_f = x^5 + a^2*x^4 + (a^3 + a^2 + a)*x^3 + (a^3 + a^2 + a)*x^2 + a^3*x + a + 1\n",
    "poly_coef = poly_f.list()\n",
    "print(\"The coefficients are\\n%s\" % (poly_coef))"
   ]
  },
  {
   "cell_type": "code",
   "execution_count": 11,
   "id": "63451aa9",
   "metadata": {},
   "outputs": [
    {
     "name": "stdout",
     "output_type": "stream",
     "text": [
      "The roots are \n",
      "[(a + 1, 1), (a^2, 1), (a^2 + 1, 1), (a^3 + a + 1, 1), (a^3 + a^2 + 1, 1)]\n"
     ]
    }
   ],
   "source": [
    "# ----Task 2.2----\n",
    "# Find the roots of the polynomial\n",
    "f_roots = poly_f.roots()\n",
    "print(\"The roots are \\n%s\" % (f_roots))"
   ]
  }
 ],
 "metadata": {
  "kernelspec": {
   "display_name": "SageMath 9.0",
   "language": "sage",
   "name": "sagemath"
  },
  "language_info": {
   "codemirror_mode": {
    "name": "ipython",
    "version": 3
   },
   "file_extension": ".py",
   "mimetype": "text/x-python",
   "name": "python",
   "nbconvert_exporter": "python",
   "pygments_lexer": "ipython3",
   "version": "3.8.10"
  }
 },
 "nbformat": 4,
 "nbformat_minor": 5
}
