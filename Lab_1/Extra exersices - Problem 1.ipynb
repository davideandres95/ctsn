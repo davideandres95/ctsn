{
 "cells": [
  {
   "cell_type": "code",
   "execution_count": 4,
   "id": "95d50be7",
   "metadata": {},
   "outputs": [
    {
     "name": "stdout",
     "output_type": "stream",
     "text": [
      "[[1, 1, 1, 1, 1, 1, 1], [1, 2, 4, 8, 16, 15, 13], [1, 4, 16, 13, 1, 4, 16], [1, 8, 13, 2, 16, 9, 4], [1, 16, 1, 16, 1, 16, 1], [1, 15, 4, 9, 16, 2, 13]]\n",
      "[ 1  1  1  1  1  1]\n",
      "[ 1  2  4  8 16 15]\n",
      "[ 1  4 16 13  1  4]\n",
      "[ 1  8 13  2 16  9]\n",
      "[ 1 16  1 16  1 16]\n",
      "[ 1 15  4  9 16  2]\n",
      "[ 1 13 16  4  1 13]\n"
     ]
    }
   ],
   "source": [
    "y = 2\n",
    "m = []\n",
    "for i in range(1,7):\n",
    "    row = []\n",
    "    g=2^(i-1)\n",
    "    for j in range(7):\n",
    "        row.append((g^j)%17)\n",
    "    m.append(row)\n",
    "print(m)\n",
    "V = matrix(GF(17), m).T\n",
    "print(V)"
   ]
  },
  {
   "cell_type": "code",
   "execution_count": 7,
   "id": "aee6e7f9",
   "metadata": {},
   "outputs": [
    {
     "name": "stdout",
     "output_type": "stream",
     "text": [
      "[1 0 0]\n",
      "[0 1 0]\n",
      "[0 0 1]\n",
      "[0 0 0]\n",
      "[0 0 0]\n",
      "[0 0 0]\n",
      "[ 1  1  1]\n",
      "[ 1  2  4]\n",
      "[ 1  4 16]\n",
      "[ 1  8 13]\n",
      "[ 1 16  1]\n",
      "[ 1 15  4]\n",
      "[ 1 13 16]\n"
     ]
    }
   ],
   "source": [
    "M = [[1,0,0],[0,1,0],[0,0,1],[0]*3,[0]*3,[0]*3]\n",
    "M = matrix(GF(17), M)\n",
    "print(M)\n",
    "print(V*M)\n",
    "C = V*M"
   ]
  },
  {
   "cell_type": "code",
   "execution_count": 22,
   "id": "15d70170",
   "metadata": {},
   "outputs": [
    {
     "name": "stdout",
     "output_type": "stream",
     "text": [
      "[1 1 1]\n",
      "\n",
      "\n",
      "[ 7]\n",
      "[ 4]\n",
      "[ 5]\n",
      "[ 1]\n",
      "[ 3]\n",
      "[13]\n",
      "[1]\n",
      "[1]\n",
      "[1]\n",
      "[0]\n",
      "[0]\n",
      "[0]\n",
      "[1 1 1]\n"
     ]
    }
   ],
   "source": [
    "P = matrix(GF(17),[7, 4, 5, 1, 3, 3]).T\n",
    "print(matrix(GF(17),V[0,0:3]))\n",
    "print('\\n')\n",
    "P = C[1:7,:]*matrix(GF(17),V[0,0:3]).T\n",
    "print(P)\n",
    "coef = V[4][3]\n",
    "V_repair = V[1:7,:].inverse()\n",
    "\n",
    "decoded = V_repair*P\n",
    "print(decoded)\n",
    "node_1 = matrix(GF(17), [decoded[0]+coef*decoded[3], decoded[1]+coef*decoded[4], decoded[2]+coef*decoded[5]]).transpose()\n",
    "print(node_1)"
   ]
  },
  {
   "cell_type": "code",
   "execution_count": null,
   "id": "277acc9e",
   "metadata": {},
   "outputs": [],
   "source": []
  }
 ],
 "metadata": {
  "kernelspec": {
   "display_name": "SageMath 9.0",
   "language": "sage",
   "name": "sagemath"
  },
  "language_info": {
   "codemirror_mode": {
    "name": "ipython",
    "version": 3
   },
   "file_extension": ".py",
   "mimetype": "text/x-python",
   "name": "python",
   "nbconvert_exporter": "python",
   "pygments_lexer": "ipython3",
   "version": "3.8.10"
  }
 },
 "nbformat": 4,
 "nbformat_minor": 5
}
