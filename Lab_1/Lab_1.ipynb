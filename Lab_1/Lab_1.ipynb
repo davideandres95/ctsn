{
 "cells": [
  {
   "cell_type": "markdown",
   "id": "bd8f0166",
   "metadata": {},
   "source": [
    "# Coding Theory for Storage and Networks\n",
    "### Lab on Regenerator Codes\n",
    "Student: David de Andrés Hernández"
   ]
  },
  {
   "cell_type": "markdown",
   "id": "cf559dd3",
   "metadata": {},
   "source": [
    "## Task 1 Regenerating Codes by ZigZag Codes\n"
   ]
  },
  {
   "cell_type": "code",
   "execution_count": 1,
   "id": "64369d3a",
   "metadata": {},
   "outputs": [],
   "source": [
    "import time\n",
    "F3 = GF(3)\n",
    "n = 5\n",
    "k = 3\n",
    "d = 4\n",
    "alpha = 4\n",
    "beta = 2"
   ]
  },
  {
   "cell_type": "markdown",
   "id": "9c322ad3",
   "metadata": {},
   "source": [
    "### Task 1.1\n",
    "*Determine the encoding matrix $bA_i,\\ i=1,\\dots,5$ of each user such that $bs_i=bA_ibu$.*"
   ]
  },
  {
   "cell_type": "code",
   "execution_count": 2,
   "id": "b19cec96",
   "metadata": {},
   "outputs": [],
   "source": [
    "A_1 = matrix(F3, [[1, 0, 0, 0, 0, 0, 0, 0, 0, 0, 0, 0],\n",
    "             [0, 1, 0, 0, 0, 0, 0, 0, 0, 0, 0, 0],\n",
    "             [0, 0, 1, 0, 0, 0, 0, 0, 0, 0, 0, 0],\n",
    "             [0, 0, 0, 1, 0, 0, 0, 0, 0, 0, 0, 0]])\n",
    "A_2 = matrix(F3, [[0, 0, 0, 0, 1, 0, 0, 0, 0, 0, 0, 0],\n",
    "             [0, 0, 0, 0, 0, 1, 0, 0, 0, 0, 0, 0],\n",
    "             [0, 0, 0, 0, 0, 0, 1, 0, 0, 0, 0, 0],\n",
    "             [0, 0, 0, 0, 0, 0, 0, 1, 0, 0, 0, 0]])\n",
    "A_3 = matrix(F3, [[0, 0, 0, 0, 0, 0, 0, 0, 1, 0, 0, 0],\n",
    "             [0, 0, 0, 0, 0, 0, 0, 0, 0, 1, 0, 0],\n",
    "             [0, 0, 0, 0, 0, 0, 0, 0, 0, 0, 1, 0],\n",
    "             [0, 0, 0, 0, 0, 0, 0, 0, 0, 0, 0, 1]])\n",
    "A_4 = matrix(F3, [[1, 0, 0, 0, 1, 0, 0, 0, 1, 0, 0, 0],\n",
    "             [0, 1, 0, 0, 0, 1, 0, 0, 0, 1, 0, 0],\n",
    "             [0, 0, 1, 0, 0, 0, 1, 0, 0, 0, 1, 0],\n",
    "             [0, 0, 0, 1, 0, 0, 0, 1, 0, 0, 0, 1]])\n",
    "A_5 = matrix(F3, [[1, 0, 0, 0, 0, 0, 2, 0, 0, 2, 0, 0],\n",
    "             [0, 1, 0, 0, 0, 0, 0, 2, 1, 0, 0, 0],\n",
    "             [0, 0, 1, 0, 1, 0, 0, 0, 0, 0, 0, 1],\n",
    "             [0, 0, 0, 1, 0, 1, 0, 0, 0, 0, 2, 0]])"
   ]
  },
  {
   "cell_type": "markdown",
   "id": "5a8c2e43",
   "metadata": {},
   "source": [
    "### Task 1.2\n",
    "*Encode $bu$ and get all the $bs_i$. How much time does the whole encoding take?\n",
    "Hint: Use the function time.time()*"
   ]
  },
  {
   "cell_type": "code",
   "execution_count": 3,
   "id": "a98b86bd",
   "metadata": {},
   "outputs": [
    {
     "name": "stdout",
     "output_type": "stream",
     "text": [
      "Encoding time: 0.014721870422363281\n"
     ]
    }
   ],
   "source": [
    "u = random_vector(F3,12) # random message\n",
    "ts = time.time() # log the time when encoding starts\n",
    "s_1 = A_1 * u\n",
    "s_2 = A_2 * u\n",
    "s_3 = A_3 * u\n",
    "s_4 = A_4 * u\n",
    "s_5 = A_5 * u\n",
    "t_enc = time.time() - ts # calulate the time spent on encoding\n",
    "print(\"Encoding time: %s\" % t_enc)"
   ]
  },
  {
   "cell_type": "markdown",
   "id": "416a06b9",
   "metadata": {},
   "source": [
    "### Task 1.3\n",
    "*Assume node 1 has failed. How do you repair it with minimum bandwidth?\n",
    "How much time does it take to get the node up and running? Assume downloading one symbol cost 1 second. Calculate the time spent on downloading and measure the time spent on decoding the downloaded symbol to repair Node 1.*"
   ]
  },
  {
   "cell_type": "code",
   "execution_count": 4,
   "id": "4e90bedb",
   "metadata": {},
   "outputs": [
    {
     "name": "stdout",
     "output_type": "stream",
     "text": [
      "8\n"
     ]
    }
   ],
   "source": [
    "d2 = [s_2[0], s_2[3]] # downloaded symbols from Node 2\n",
    "d3 = [s_3[0], s_3[3]] # downloaded symbols from Node 3\n",
    "d4 = [s_4[0], s_4[3]] # downloaded symbols from Node 4\n",
    "d5 = [s_5[1], s_5[2]]# downloaded symbols from Node 5\n",
    "t_download = len(d2) + len(d3) + len(d4) + len(d5) # calculate the time for downloading the symbols\n",
    "print(t_download)"
   ]
  },
  {
   "cell_type": "code",
   "execution_count": 5,
   "id": "020df6df",
   "metadata": {},
   "outputs": [
    {
     "name": "stdout",
     "output_type": "stream",
     "text": [
      "Repair time: 8.006059646606445\n",
      "Repair correctly? True\n"
     ]
    }
   ],
   "source": [
    "t_s = time.time() # log the time when start downloading and decoding\n",
    "s_11 = d4[0] - d2[0] -d3[0] # repair the first symbol of Node 1\n",
    "s_12 = d5[0] - 2*d2[1] - d3[0] # repair the second symbol of Node 1\n",
    "s_13 = d5[1] - d2[0] - d3[1] # repair the third symbol of Node 1\n",
    "s_14 = d4[1] - d2[1] - d3[1] # repair the forth symbol of Node 1\n",
    "\n",
    "s_1_repair = vector([s_11, s_12, s_13, s_14])\n",
    "\n",
    "t_decode = time.time() - t_s # measure the time spent on decoding\n",
    "t_repair = t_download + t_decode\n",
    "print(\"Repair time: %s\" % t_repair)\n",
    "print(\"Repair correctly? %s\" % (s_1_repair == s_1))"
   ]
  },
  {
   "cell_type": "markdown",
   "id": "67222f9f",
   "metadata": {},
   "source": [
    "### Task 1.4\n",
    "*Calculate the time spent to reconstruct the file by contacting node 1,2,3.*"
   ]
  },
  {
   "cell_type": "code",
   "execution_count": 6,
   "id": "9f5aa78e",
   "metadata": {},
   "outputs": [
    {
     "name": "stdout",
     "output_type": "stream",
     "text": [
      "Reconstruct time: 12\n"
     ]
    }
   ],
   "source": [
    "d1 = s_1 # download symbols from Node 1\n",
    "d2 = s_2 # download symbols from Node 2\n",
    "d3 = s_3 # download symbols from Node 3\n",
    "t_reconstruct = len(s_1) + len(s_2) + len (s_3)\n",
    "print(\"Reconstruct time: %s\" % t_reconstruct)"
   ]
  },
  {
   "cell_type": "markdown",
   "id": "5e50e9f3",
   "metadata": {},
   "source": [
    "### Task 1.5\n",
    "*Compare the time spent in task 3 and task 4. Is it more efficient to regenerate the node with minimum bandwidth than reconstruct the file? Justify your answer.*\n"
   ]
  },
  {
   "cell_type": "markdown",
   "id": "410122cf",
   "metadata": {},
   "source": [
    "Yes, when regenerating the node only 8 symbols need to be downloaded. Whereas when reconstructing the file, we must download all 12 systematic symbols."
   ]
  },
  {
   "cell_type": "markdown",
   "id": "e474dd48",
   "metadata": {},
   "source": [
    "## Task 2: Regenerating Codes by Product Matrix Codes"
   ]
  },
  {
   "cell_type": "code",
   "execution_count": 104,
   "id": "ac36dbd8",
   "metadata": {},
   "outputs": [],
   "source": [
    "n = 5\n",
    "k = 3\n",
    "d = 4\n",
    "F = GF(13)\n",
    "u = vector(F, (2,2,3,5,6,10))\n",
    "alpha = 2\n",
    "beta = 1"
   ]
  },
  {
   "cell_type": "markdown",
   "id": "abf5a1f3",
   "metadata": {},
   "source": [
    "### Task 2.1\n",
    "*Time spent to encode the data to be stored on the $n=5$ nodes.*"
   ]
  },
  {
   "cell_type": "markdown",
   "id": "a2f507f6",
   "metadata": {},
   "source": [
    "We define the $(d \\times \\alpha)$ message matrix $M$ as:\n",
    "$$M = \\begin{bmatrix} S_1\\\\ S_2 \\end{bmatrix} $$\n",
    "\n",
    "where $S_1$ and $S_2$ are $(\\alpha \\times \\alpha)$ symmetric matrices constructed such that the ${\\alpha + 1}\\choose{2}$ entries in the upper-triangular part of each of the two matrices are filled up by ${\\alpha + 1}\\choose{2}$ distinct message symbols. Thus, all the $B=\\alpha(\\alpha+1)$ message symbols are contained in the two matrices $S_1$ and $S_2$. The entries in the strictly lower-triangular portion of the two matrices $S_1$ and $S_2$ are chosen so that the matrices are symmetric.\n",
    "\n",
    "Next, we define the encodeing matrix $\\psi $ to be a $(n\\times d)$ matrix given by $\\psi = [\\Phi\\ \\Lambda\\Phi]$ where $\\Phi$ is an $(n \\times \\alpha)$ matrix and $\\Lambda$ is an $(n\\times n)$ *diagonal matrix*.\n",
    "\n",
    "The elements of $\\Psi$ are chosen such that the following conditions are satisfied:\n",
    "1. Any $d$ rows of $\\Psi$ are linearly independent;\n",
    "2. Any $\\alpha$ rows of $\\Phi$ are linearly independent;\n",
    "3. The $n$ diagonal elements of $\\Lambda$  are distinct.\n",
    "\n",
    "The above requirements can be met, for example, by choosing $\\Psi$ to be a Vandermonde matrix with elements chosen carefully to satisfy the third condition. In this case, let the $i$th row of $\\Psi$ be $\\psi_i = [1\\ x_i \\ ... \\ {x_i}^{d-1} ]$, which gives $\\Lambda = diag\\{{x_1}^{\\alpha}, {x_2}^{\\alpha}, ... , {x_n}^{\\alpha}\\}$. In order to satisfy the third property, one may choose $F_q$ to be any field of size $n(d-k+1)$ or higher, with $x_i= g^{i-1}$, where $g$ is the generator of the multiplicative group of the finite field $F_q$."
   ]
  },
  {
   "cell_type": "code",
   "execution_count": 105,
   "id": "c1de085a",
   "metadata": {},
   "outputs": [
    {
     "name": "stdout",
     "output_type": "stream",
     "text": [
      "Element:  0\n",
      "The generated set:  {0, 1}\n",
      "Element:  1\n",
      "The generated set:  {1}\n",
      "Element:  2\n",
      "The generated set:  {1, 2, 3, 4, 5, 6, 7, 8, 9, 10, 11, 12}\n"
     ]
    }
   ],
   "source": [
    "# we look for a generator g of the multiplicative group of the field\n",
    "for element in F:\n",
    "    print(\"Element: \",element)\n",
    "    gens = set()\n",
    "    for k in range(0,13):\n",
    "        gens.add(element**k)\n",
    "    print(\"The generated set: \", gens)\n",
    "    if(len(gens)==12):\n",
    "        break"
   ]
  },
  {
   "cell_type": "code",
   "execution_count": 106,
   "id": "1d245b15",
   "metadata": {},
   "outputs": [
    {
     "name": "stdout",
     "output_type": "stream",
     "text": [
      "S:\n",
      "[ 2  8]\n",
      "[ 9  8]\n",
      "[ 6  9]\n",
      "[ 4  5]\n",
      "[ 7 10]\n",
      "Encoding time: 0.0007486343383789062\n"
     ]
    }
   ],
   "source": [
    "Psi = matrix(F, [[1, 1, 1, 1], [1, 2, 4, 8], [1, 4, 3, 12], [1, 8, 12, 5], [1, 3, 9, 1]]) # The Vandermonde matrix\n",
    "#Psi = matrix(F, [[1, 1, 1, 1], [1, 2, 4, 8], [1, 3, 9, 1], [1, 4, 3, 12], [1, 5, 12, 8], ]) # The Vandermonde matrix\n",
    "M = matrix(F, [[2, 2], [2, 3], [ 5, 6], [6, 10]]) # matrix composed of file symbols\n",
    "\n",
    "t_s = time.time()\n",
    "S = Psi * M # each row of this matrix is stored in one node\n",
    "print(f'S:\\n{S}')\n",
    "t_enc = time.time() - t_s\n",
    "print(\"Encoding time: %s\" % t_enc)"
   ]
  },
  {
   "cell_type": "markdown",
   "id": "6a6f0174",
   "metadata": {},
   "source": [
    "### Task 2.2\n",
    "*Assume node 4 has failed. How do you repair it by connecting $d=4$ nodes with bandwidth $\\beta=1$?*\n",
    "*Hint: Determine the coding vector at the helper nodes.*"
   ]
  },
  {
   "cell_type": "code",
   "execution_count": 107,
   "id": "2eb5a7ea",
   "metadata": {},
   "outputs": [
    {
     "name": "stdout",
     "output_type": "stream",
     "text": [
      "Repair time: 4.001238822937012\n",
      "Correctly repair? True\n"
     ]
    }
   ],
   "source": [
    "t_s = time.time()\n",
    "phi_f = Psi[3][0:2]\n",
    "coef_h3 = Psi[3][2]\n",
    "h0 = S[0]*phi_f # 1th sent symbol\n",
    "h1 = S[1]*phi_f # 2th sent symbol\n",
    "h2 = S[2]*phi_f # 3th sent symbol\n",
    "h4 = S[4]*phi_f # 4th sent symbol\n",
    "\n",
    "r_symbols = vector(F, [h0, h1, h2, h4]) \n",
    "psi_repair = Psi.delete_rows([3])\n",
    "\n",
    "decoded = psi_repair.inverse()*r_symbols\n",
    "s4_repair = matrix(F, [decoded[0]+coef_h3*decoded[2], decoded[1]+coef_h3*decoded[3]]).transpose()\n",
    "\n",
    "t_decode = time.time()-t_s\n",
    "t_download = len(r_symbols) # calculate the time for downloading the symbols\n",
    "t_repair = t_decode + t_download\n",
    "print(\"Repair time: %s\" % t_repair)\n",
    "print(\"Correctly repair? %s\" %(S[3,:].transpose()==s4_repair))"
   ]
  },
  {
   "cell_type": "markdown",
   "id": "89cc161f",
   "metadata": {},
   "source": [
    "*Assume node 3 has failed. How do you repair it by connecting $d=4$ nodes with bandwidth $\\beta=1$?*\n",
    "*Hint: Determine the coding vector at the helper nodes.*"
   ]
  },
  {
   "cell_type": "code",
   "execution_count": 108,
   "id": "f55d3905",
   "metadata": {},
   "outputs": [
    {
     "name": "stdout",
     "output_type": "stream",
     "text": [
      "Repair time: 4.00206995010376\n",
      "Correctly repair? True\n"
     ]
    }
   ],
   "source": [
    "t_s = time.time()\n",
    "psi_f = Psi[2][0:2] #row of phi, the failed node\n",
    "coef_h2 = Psi[2][2]\n",
    "h0 = S[0]*psi_f # 1st sent symbol\n",
    "h1 = S[1]*psi_f # 2nd sent symbol\n",
    "h3 = S[3]*psi_f # 3rd sent symbol\n",
    "h4 = S[4]*psi_f # 4th sent symbol\n",
    "\n",
    "r_symbols = vector(F, [h0, h1, h3, h4]) \n",
    "psi_repair = Psi.delete_rows([2])\n",
    "\n",
    "decoded = psi_repair.inverse()*r_symbols\n",
    "s3_repair = matrix(F, [decoded[0]+coef_h2*decoded[2], decoded[1]+coef_h2*decoded[3]]).transpose()\n",
    "\n",
    "t_decode = time.time()-t_s\n",
    "t_download = len(r_symbols) # calculate the time for downloading the symbols\n",
    "t_repair = t_decode + t_download\n",
    "print(\"Repair time: %s\" % t_repair)\n",
    "print(\"Correctly repair? %s\" %(S[2,:].transpose()==s3_repair))"
   ]
  },
  {
   "cell_type": "markdown",
   "id": "cc9c4835",
   "metadata": {},
   "source": [
    "### Task 2.3\n",
    "*Reconstruct the file by contacting Node 1, 2, 3.*"
   ]
  },
  {
   "cell_type": "code",
   "execution_count": 121,
   "id": "ca9f7117",
   "metadata": {},
   "outputs": [
    {
     "name": "stdout",
     "output_type": "stream",
     "text": [
      "[10  5  0]\n",
      "[ 4 12  7]\n",
      "[ 2 11  7]\n",
      "(1, 4, 3, 12, 9)\n",
      "[  x^3 + 2*x^2 + x 2*x^3 + 3*x^2 + x 3*x^3 + 4*x^2 + x]\n",
      "[2*x^3 + 3*x^2 + x 4*x^3 + 4*x^2 + x 6*x^3 + 5*x^2 + x]\n",
      "[3*x^3 + 4*x^2 + x 6*x^3 + 5*x^2 + x 9*x^3 + 6*x^2 + x]\n",
      "u_reconstruct:  (7, 11, 0, 12, 11, 12)\n"
     ]
    }
   ],
   "source": [
    "contacts = [0,1,2] # indecids of the nodes to contact to reconstruct the file. Be careful the indices in Python start from 0.\n",
    "not_contacted = [3,4]\n",
    "\n",
    "t_s = time.time()\n",
    "\n",
    "psi_dc = Psi.delete_rows([2,3]).delete_columns([2,3])\n",
    "S_dc = S.delete_rows([3,4]) # Downloaded information\n",
    "system = S_dc * psi_dc.transpose()\n",
    "\n",
    "#print(system)\n",
    "\n",
    "coef = Psi.columns()[2] # Labda_DC\n",
    "\n",
    "#print(coef)\n",
    "\n",
    "p_q_12 = Matrix(F, [[1, coef[0]], [1, coef[1]]])\n",
    "y_12 = vector(F, [system[0][1], system[1][0]])\n",
    "p_q_1 = p_q_12\\y_12 # first equation system from the diagonal matrix P + Lambda*Q\n",
    "\n",
    "p_q_13 = Matrix(F, [[1, coef[0]], [1, coef[2]]])\n",
    "y_13 = vector(F, [system[0][2], system[2][0]])\n",
    "p_q_2 = p_q_13\\y_13 # se equation system from the diagonal matrix P + Lambda*Q\n",
    "\n",
    "p_q_23 = Matrix(F, [[1, coef[1]], [1, coef[2]]])\n",
    "y_23 = vector(F, [system[1][2], system[2][1]])\n",
    "p_q_3 = p_q_23\\y_23\n",
    "\n",
    "\n",
    "P = Matrix(F, [[None, p_q_1[0], p_q_2[0]], [p_q_1[0], None, p_q_3[0]], [p_q_2[0], p_q_3[0], None]])\n",
    "Q = Matrix(F, [[None, p_q_1[1], p_q_2[1]], [p_q_1[1], None, p_q_3[1]], [p_q_2[1], p_q_3[1], None]])\n",
    "\n",
    "p_ij = vector(F,[p_q_1[0],  p_q_2[0], p_q_3[0]])\n",
    "q_ij = vector(F,[p_q_1[1],  p_q_2[1], p_q_3[1]])\n",
    "\n",
    "s_1_x = Matrix(F['x'], [[x, x^2],[x^2, x^3]])\n",
    "\n",
    "u_ij = psi_dc*s_1_x*psi_dc.T\n",
    "\n",
    "print(u_ij)\n",
    "\n",
    "Solution = Matrix(F, [u_ij[1][0].coefficients(), u_ij[2][0].coefficients(), u_ij[2][1].coefficients()])\n",
    "\n",
    "u_reconstruct = vector(F, list(Solution\\p_ij) + list(Solution\\q_ij) )\n",
    "\n",
    "print('u_reconstruct: ', u_reconstruct)\n",
    "\n",
    "t_decoding = time.time()-t_s"
   ]
  },
  {
   "cell_type": "code",
   "execution_count": 117,
   "id": "ac114821",
   "metadata": {},
   "outputs": [
    {
     "name": "stdout",
     "output_type": "stream",
     "text": [
      "Reconstruct time: 6.013292074203491\n",
      "Correctly reconstruct? False\n"
     ]
    }
   ],
   "source": [
    "t_download =prod(S_dc.dimensions()) # calculate the time for downloading the symbols from Node 1,2,3\n",
    "t_reconstruct = t_decoding + t_download\n",
    "print(\"Reconstruct time: %s\" % t_reconstruct)\n",
    "print(\"Correctly reconstruct? %s\" % (u_reconstruct==u))"
   ]
  },
  {
   "cell_type": "code",
   "execution_count": null,
   "id": "57b8a11c",
   "metadata": {},
   "outputs": [],
   "source": []
  }
 ],
 "metadata": {
  "kernelspec": {
   "display_name": "SageMath 9.0",
   "language": "sage",
   "name": "sagemath"
  },
  "language_info": {
   "codemirror_mode": {
    "name": "ipython",
    "version": 3
   },
   "file_extension": ".py",
   "mimetype": "text/x-python",
   "name": "python",
   "nbconvert_exporter": "python",
   "pygments_lexer": "ipython3",
   "version": "3.8.10"
  }
 },
 "nbformat": 4,
 "nbformat_minor": 5
}
