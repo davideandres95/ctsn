{
 "cells": [
  {
   "cell_type": "markdown",
   "id": "bd8f0166",
   "metadata": {},
   "source": [
    "# Coding Theory for Storage and Networks\n",
    "### Lab on Regenerator Codes\n",
    "Student: David de Andrés Hernández"
   ]
  },
  {
   "cell_type": "markdown",
   "id": "cf559dd3",
   "metadata": {},
   "source": [
    "## Task 1 Regenerating Codes by ZigZag Codes\n"
   ]
  },
  {
   "cell_type": "code",
   "execution_count": 2,
   "id": "64369d3a",
   "metadata": {},
   "outputs": [],
   "source": [
    "import time\n",
    "F3 = GF(3)\n",
    "n = 5\n",
    "k = 3\n",
    "d = 4\n",
    "alpha = 4\n",
    "beta = 2"
   ]
  },
  {
   "cell_type": "markdown",
   "id": "9c322ad3",
   "metadata": {},
   "source": [
    "### Task 1.1\n",
    "*Determine the encoding matrix $bA_i,\\ i=1,\\dots,5$ of each user such that $bs_i=bA_ibu$.*"
   ]
  },
  {
   "cell_type": "code",
   "execution_count": 3,
   "id": "b19cec96",
   "metadata": {},
   "outputs": [],
   "source": [
    "A_1 = matrix(F3, [[1, 0, 0, 0, 0, 0, 0, 0, 0, 0, 0, 0],\n",
    "             [0, 1, 0, 0, 0, 0, 0, 0, 0, 0, 0, 0],\n",
    "             [0, 0, 1, 0, 0, 0, 0, 0, 0, 0, 0, 0],\n",
    "             [0, 0, 0, 1, 0, 0, 0, 0, 0, 0, 0, 0]])\n",
    "A_2 = matrix(F3, [[0, 0, 0, 0, 1, 0, 0, 0, 0, 0, 0, 0],\n",
    "             [0, 0, 0, 0, 0, 1, 0, 0, 0, 0, 0, 0],\n",
    "             [0, 0, 0, 0, 0, 0, 1, 0, 0, 0, 0, 0],\n",
    "             [0, 0, 0, 0, 0, 0, 0, 1, 0, 0, 0, 0]])\n",
    "A_3 = matrix(F3, [[0, 0, 0, 0, 0, 0, 0, 0, 1, 0, 0, 0],\n",
    "             [0, 0, 0, 0, 0, 0, 0, 0, 0, 1, 0, 0],\n",
    "             [0, 0, 0, 0, 0, 0, 0, 0, 0, 0, 1, 0],\n",
    "             [0, 0, 0, 0, 0, 0, 0, 0, 0, 0, 0, 1]])\n",
    "A_4 = matrix(F3, [[1, 0, 0, 0, 1, 0, 0, 0, 1, 0, 0, 0],\n",
    "             [0, 1, 0, 0, 0, 1, 0, 0, 0, 1, 0, 0],\n",
    "             [0, 0, 1, 0, 0, 0, 1, 0, 0, 0, 1, 0],\n",
    "             [0, 0, 0, 1, 0, 0, 0, 1, 0, 0, 0, 1]])\n",
    "A_5 = matrix(F3, [[1, 0, 0, 0, 0, 0, 2, 0, 0, 2, 0, 0],\n",
    "             [0, 1, 0, 0, 0, 0, 0, 2, 1, 0, 0, 0],\n",
    "             [0, 0, 1, 0, 1, 0, 0, 0, 0, 0, 0, 1],\n",
    "             [0, 0, 0, 1, 0, 1, 0, 0, 0, 0, 2, 0]])"
   ]
  },
  {
   "cell_type": "markdown",
   "id": "5a8c2e43",
   "metadata": {},
   "source": [
    "### Task 1.2\n",
    "*Encode $bu$ and get all the $bs_i$. How much time does the whole encoding take?\n",
    "Hint: Use the function time.time()*"
   ]
  },
  {
   "cell_type": "code",
   "execution_count": 4,
   "id": "a98b86bd",
   "metadata": {},
   "outputs": [
    {
     "name": "stdout",
     "output_type": "stream",
     "text": [
      "Encoding time: 0.008234977722167969\n"
     ]
    }
   ],
   "source": [
    "u = random_vector(F3,12) # random message\n",
    "ts = time.time() # log the time when encoding starts\n",
    "s_1 = A_1 * u\n",
    "s_2 = A_2 * u\n",
    "s_3 = A_3 * u\n",
    "s_4 = A_4 * u\n",
    "s_5 = A_5 * u\n",
    "t_enc = time.time() - ts # calulate the time spent on encoding\n",
    "print(\"Encoding time: %s\" % t_enc)"
   ]
  },
  {
   "cell_type": "markdown",
   "id": "416a06b9",
   "metadata": {},
   "source": [
    "### Task 1.3\n",
    "*Assume node 1 has failed. How do you repair it with minimum bandwidth?\n",
    "How much time does it take to get the node up and running? Assume downloading one symbol cost 1 second. Calculate the time spent on downloading and measure the time spent on decoding the downloaded symbol to repair Node 1.*"
   ]
  },
  {
   "cell_type": "code",
   "execution_count": 5,
   "id": "4e90bedb",
   "metadata": {},
   "outputs": [
    {
     "name": "stdout",
     "output_type": "stream",
     "text": [
      "8\n"
     ]
    }
   ],
   "source": [
    "d2 = [s_2[0], s_2[3]] # downloaded symbols from Node 2\n",
    "d3 = [s_3[0], s_3[3]] # downloaded symbols from Node 3\n",
    "d4 = [s_4[0], s_4[3]] # downloaded symbols from Node 4\n",
    "d5 = [s_5[1], s_5[2]]# downloaded symbols from Node 5\n",
    "t_download = len(d2) + len(d3) + len(d4) + len(d5) # calculate the time for downloading the symbols\n",
    "print(t_download)"
   ]
  },
  {
   "cell_type": "code",
   "execution_count": 6,
   "id": "020df6df",
   "metadata": {},
   "outputs": [
    {
     "name": "stdout",
     "output_type": "stream",
     "text": [
      "Repair time: 8.005890369415283\n",
      "Repair correctly? True\n"
     ]
    }
   ],
   "source": [
    "t_s = time.time() # log the time when start downloading and decoding\n",
    "s_11 = d4[0] - d2[0] -d3[0] # repair the first symbol of Node 1\n",
    "s_12 = d5[0] - 2*d2[1] - d3[0] # repair the second symbol of Node 1\n",
    "s_13 = d5[1] - d2[0] - d3[1] # repair the third symbol of Node 1\n",
    "s_14 = d4[1] - d2[1] - d3[1] # repair the forth symbol of Node 1\n",
    "\n",
    "s_1_repair = vector([s_11, s_12, s_13, s_14])\n",
    "\n",
    "t_decode = time.time() - t_s # measure the time spent on decoding\n",
    "t_repair = t_download + t_decode\n",
    "print(\"Repair time: %s\" % t_repair)\n",
    "print(\"Repair correctly? %s\" % (s_1_repair == s_1))"
   ]
  },
  {
   "cell_type": "markdown",
   "id": "67222f9f",
   "metadata": {},
   "source": [
    "### Task 1.4\n",
    "*Calculate the time spent to reconstruct the file by contacting node 1,2,3.*"
   ]
  },
  {
   "cell_type": "code",
   "execution_count": 7,
   "id": "9f5aa78e",
   "metadata": {},
   "outputs": [
    {
     "name": "stdout",
     "output_type": "stream",
     "text": [
      "Reconstruct time: 12\n"
     ]
    }
   ],
   "source": [
    "d1 = s_1 # download symbols from Node 1\n",
    "d2 = s_2 # download symbols from Node 2\n",
    "d3 = s_3 # download symbols from Node 3\n",
    "t_reconstruct = len(s_1) + len(s_2) + len (s_3)\n",
    "print(\"Reconstruct time: %s\" % t_reconstruct)"
   ]
  },
  {
   "cell_type": "markdown",
   "id": "5e50e9f3",
   "metadata": {},
   "source": [
    "### Task 1.5\n",
    "*Compare the time spent in task 3 and task 4. Is it more efficient to regenerate the node with minimum bandwidth than reconstruct the file? Justify your answer.*\n"
   ]
  },
  {
   "cell_type": "markdown",
   "id": "410122cf",
   "metadata": {},
   "source": [
    "Yes, when regenerating the node only 8 symbols need to be downloaded. Whereas when reconstructing the file, we must download all 12 systematic symbols."
   ]
  },
  {
   "cell_type": "markdown",
   "id": "e474dd48",
   "metadata": {},
   "source": [
    "## Task 2: Regenerating Codes by Product Matrix Codes"
   ]
  },
  {
   "cell_type": "code",
   "execution_count": 8,
   "id": "ac36dbd8",
   "metadata": {},
   "outputs": [],
   "source": [
    "n = 5\n",
    "k = 3\n",
    "d = 4\n",
    "F = GF(13)\n",
    "u = vector(F, (2,2,3,5,6,10))\n",
    "alpha = 2\n",
    "beta = 1"
   ]
  },
  {
   "cell_type": "markdown",
   "id": "abf5a1f3",
   "metadata": {},
   "source": [
    "### Task 2.1\n",
    "*Time spent to encode the data to be stored on the $n=5$ nodes.*"
   ]
  },
  {
   "cell_type": "markdown",
   "id": "a2f507f6",
   "metadata": {},
   "source": [
    "We define the $(d \\times \\alpha)$ message matrix $M$ as:\n",
    "$$M = \\begin{bmatrix} S_1\\\\ S_2 \\end{bmatrix} $$\n",
    "\n",
    "where $S_1$ and $S_2$ are $(\\alpha \\times \\alpha)$ symmetric matrices constructed such that the ${\\alpha + 1}\\choose{2}$ entries in the upper-triangular part of each of the two matrices are filled up by ${\\alpha + 1}\\choose{2}$ distinct message symbols. Thus, all the $B=\\alpha(\\alpha+1)$ message symbols are contained in the two matrices $S_1$ and $S_2$. The entries in the strictly lower-triangular portion of the two matrices $S_1$ and $S_2$ are chosen so that the matrices are symmetric.\n",
    "\n",
    "Next, we define the encodeing matrix $\\psi $ to be a $(n\\times d)$ matrix given by $\\psi = [\\Phi\\ \\Lambda\\Phi]$ where $\\Phi$ is an $(n \\times \\alpha)$ matrix and $\\Lambda$ is an $(n\\times n)$ *diagonal matrix*.\n",
    "\n",
    "The elements of $\\Psi$ are chosen such that the following conditions are satisfied:\n",
    "1. Any $d$ rows of $\\Psi$ are linearly independent;\n",
    "2. Any $\\alpha$ rows of $\\Phi$ are linearly independent;\n",
    "3. The $n$ diagonal elements of $\\Lambda$  are distinct.\n",
    "\n",
    "The above requirements can be met, for example, by choosing $\\Psi$ to be a Vandermonde matrix with elements chosen carefully to satisfy the third condition. In this case, let the $i$th row of $\\Psi$ be $\\psi_i = [1\\ x_i \\ ... \\ {x_i}^{d-1} ]$, which gives $\\Lambda = diag\\{{x_1}^{\\alpha}, {x_2}^{\\alpha}, ... , {x_n}^{\\alpha}\\}$. In order to satisfy the third property, one may choose $F_q$ to be any field of size $n(d-k+1)$ or higher, with $x_i= g^{i-1}$, where $g$ is the generator of the multiplicative group of the finite field $F_q$."
   ]
  },
  {
   "cell_type": "code",
   "execution_count": 9,
   "id": "c1de085a",
   "metadata": {},
   "outputs": [
    {
     "name": "stdout",
     "output_type": "stream",
     "text": [
      "Element:  0\n",
      "The generated set:  {0, 1}\n",
      "Element:  1\n",
      "The generated set:  {1}\n",
      "Element:  2\n",
      "The generated set:  {1, 2, 3, 4, 5, 6, 7, 8, 9, 10, 11, 12}\n"
     ]
    }
   ],
   "source": [
    "# we look for a generator g of the multiplicative group of the field\n",
    "for element in F:\n",
    "    print(\"Element: \",element)\n",
    "    gens = set()\n",
    "    for k in range(0,13):\n",
    "        gens.add(element**k)\n",
    "    print(\"The generated set: \", gens)\n",
    "    if(len(gens)==12):\n",
    "        break"
   ]
  },
  {
   "cell_type": "code",
   "execution_count": 10,
   "id": "1d245b15",
   "metadata": {},
   "outputs": [
    {
     "name": "stdout",
     "output_type": "stream",
     "text": [
      "[ 2  8]\n",
      "[ 9  8]\n",
      "[ 6  9]\n",
      "[ 4  5]\n",
      "[ 7 10]\n",
      "Encoding time: 0.005474090576171875\n"
     ]
    }
   ],
   "source": [
    "Psi = matrix(F, [[1, 1, 1, 1], [1, 2, 4, 8], [1, 4, 3, 12], [1, 8, 12, 5], [1, 3, 9, 1]]) # The Vandermonde matrix\n",
    "M = matrix(F, [[2, 2], [2, 3], [ 5, 6], [6, 10]]) # matrix composed of file symbols\n",
    "\n",
    "t_s = time.time()\n",
    "S = Psi * M # each row of this matrix is stored in one node\n",
    "print(S)\n",
    "t_enc = time.time() - t_s\n",
    "print(\"Encoding time: %s\" % t_enc)"
   ]
  },
  {
   "cell_type": "markdown",
   "id": "6a6f0174",
   "metadata": {},
   "source": [
    "### Task 2.2\n",
    "*Assume node 4 has failed. How do you repair it by connecting $d=4$ nodes with bandwidth $\\beta=1$?*\n",
    "*Hint: Determine the coding vector at the helper nodes.*"
   ]
  },
  {
   "cell_type": "code",
   "execution_count": 11,
   "id": "2eb5a7ea",
   "metadata": {},
   "outputs": [
    {
     "name": "stdout",
     "output_type": "stream",
     "text": [
      "Repair time: 4.018636226654053\n",
      "Correctly repair? True\n"
     ]
    }
   ],
   "source": [
    "t_s = time.time()\n",
    "phi_f = Psi[3][0:2]\n",
    "coef_h3 = Psi[3][2]\n",
    "h0 = S[0]*phi_f # 1th sent symbol\n",
    "h1 = S[1]*phi_f # 2th sent symbol\n",
    "h2 = S[2]*phi_f # 3th sent symbol\n",
    "h4 = S[4]*phi_f # 4th sent symbol\n",
    "\n",
    "r_symbols = vector(F, [h0, h1, h2, h4]) \n",
    "psi_repair = Psi.delete_rows([3])\n",
    "\n",
    "decoded = psi_repair.inverse()*r_symbols\n",
    "s4_repair = matrix(F, [decoded[0]+coef_h3*decoded[2], decoded[1]+coef_h3*decoded[3]]).transpose()\n",
    "\n",
    "t_decode = time.time()-t_s\n",
    "t_download = len(r_symbols) # calculate the time for downloading the symbols\n",
    "t_repair = t_decode + t_download\n",
    "print(\"Repair time: %s\" % t_repair)\n",
    "print(\"Correctly repair? %s\" %(S[3,:].transpose()==s4_repair))"
   ]
  },
  {
   "cell_type": "markdown",
   "id": "89cc161f",
   "metadata": {},
   "source": [
    "*Assume node 3 has failed. How do you repair it by connecting $d=4$ nodes with bandwidth $\\beta=1$?*\n",
    "*Hint: Determine the coding vector at the helper nodes.*"
   ]
  },
  {
   "cell_type": "code",
   "execution_count": 12,
   "id": "f55d3905",
   "metadata": {},
   "outputs": [
    {
     "name": "stdout",
     "output_type": "stream",
     "text": [
      "Repair time: 4.001561641693115\n",
      "Correctly repair? True\n"
     ]
    }
   ],
   "source": [
    "t_s = time.time()\n",
    "psi_f = Psi[2][0:2] #row of phi, the failed node\n",
    "coef_h2 = Psi[2][2]\n",
    "h0 = S[0]*psi_f # 1th sent symbol\n",
    "h1 = S[1]*psi_f # 2th sent symbol\n",
    "h3 = S[3]*psi_f # 3th sent symbol\n",
    "h4 = S[4]*psi_f # 4th sent symbol\n",
    "\n",
    "r_symbols = vector(F, [h0, h1, h3, h4]) \n",
    "psi_repair = Psi.delete_rows([2])\n",
    "\n",
    "decoded = psi_repair.inverse()*r_symbols\n",
    "s3_repair = matrix(F, [decoded[0]+coef_h2*decoded[2], decoded[1]+coef_h2*decoded[3]]).transpose()\n",
    "\n",
    "t_decode = time.time()-t_s\n",
    "t_download = len(r_symbols) # calculate the time for downloading the symbols\n",
    "t_repair = t_decode + t_download\n",
    "print(\"Repair time: %s\" % t_repair)\n",
    "print(\"Correctly repair? %s\" %(S[2,:].transpose()==s3_repair))"
   ]
  },
  {
   "cell_type": "markdown",
   "id": "cc9c4835",
   "metadata": {},
   "source": [
    "### Task 2.3\n",
    "*Reconstruct the file by contacting Node 1, 2, 3.*"
   ]
  },
  {
   "cell_type": "code",
   "execution_count": 56,
   "id": "ca9f7117",
   "metadata": {},
   "outputs": [
    {
     "name": "stdout",
     "output_type": "stream",
     "text": [
      "[u1 u2]\n",
      "[u2 u3]\n"
     ]
    },
    {
     "ename": "TypeError",
     "evalue": "positive characteristic not allowed in symbolic computations",
     "output_type": "error",
     "traceback": [
      "\u001b[0;31m---------------------------------------------------------------------------\u001b[0m",
      "\u001b[0;31mAttributeError\u001b[0m                            Traceback (most recent call last)",
      "\u001b[0;32m/usr/lib/python3/dist-packages/sage/matrix/matrix0.pyx\u001b[0m in \u001b[0;36msage.matrix.matrix0.Matrix.change_ring (build/cythonized/sage/matrix/matrix0.c:11068)\u001b[0;34m()\u001b[0m\n\u001b[1;32m   1633\u001b[0m         \u001b[0;32mtry\u001b[0m\u001b[0;34m:\u001b[0m\u001b[0;34m\u001b[0m\u001b[0;34m\u001b[0m\u001b[0m\n\u001b[0;32m-> 1634\u001b[0;31m             \u001b[0;32mreturn\u001b[0m \u001b[0mself\u001b[0m\u001b[0;34m.\u001b[0m\u001b[0m_change_ring\u001b[0m\u001b[0;34m(\u001b[0m\u001b[0mring\u001b[0m\u001b[0;34m)\u001b[0m\u001b[0;34m\u001b[0m\u001b[0;34m\u001b[0m\u001b[0m\n\u001b[0m\u001b[1;32m   1635\u001b[0m         \u001b[0;32mexcept\u001b[0m \u001b[0;34m(\u001b[0m\u001b[0mAttributeError\u001b[0m\u001b[0;34m,\u001b[0m \u001b[0mNotImplementedError\u001b[0m\u001b[0;34m)\u001b[0m\u001b[0;34m:\u001b[0m\u001b[0;34m\u001b[0m\u001b[0;34m\u001b[0m\u001b[0m\n",
      "\u001b[0;32m/usr/lib/python3/dist-packages/sage/structure/element.pyx\u001b[0m in \u001b[0;36msage.structure.element.Element.__getattr__ (build/cythonized/sage/structure/element.c:4608)\u001b[0;34m()\u001b[0m\n\u001b[1;32m    486\u001b[0m         \"\"\"\n\u001b[0;32m--> 487\u001b[0;31m         \u001b[0;32mreturn\u001b[0m \u001b[0mself\u001b[0m\u001b[0;34m.\u001b[0m\u001b[0mgetattr_from_category\u001b[0m\u001b[0;34m(\u001b[0m\u001b[0mname\u001b[0m\u001b[0;34m)\u001b[0m\u001b[0;34m\u001b[0m\u001b[0;34m\u001b[0m\u001b[0m\n\u001b[0m\u001b[1;32m    488\u001b[0m \u001b[0;34m\u001b[0m\u001b[0m\n",
      "\u001b[0;32m/usr/lib/python3/dist-packages/sage/structure/element.pyx\u001b[0m in \u001b[0;36msage.structure.element.Element.getattr_from_category (build/cythonized/sage/structure/element.c:4717)\u001b[0;34m()\u001b[0m\n\u001b[1;32m    499\u001b[0m             \u001b[0mcls\u001b[0m \u001b[0;34m=\u001b[0m \u001b[0mP\u001b[0m\u001b[0;34m.\u001b[0m\u001b[0m_abstract_element_class\u001b[0m\u001b[0;34m\u001b[0m\u001b[0;34m\u001b[0m\u001b[0m\n\u001b[0;32m--> 500\u001b[0;31m         \u001b[0;32mreturn\u001b[0m \u001b[0mgetattr_from_other_class\u001b[0m\u001b[0;34m(\u001b[0m\u001b[0mself\u001b[0m\u001b[0;34m,\u001b[0m \u001b[0mcls\u001b[0m\u001b[0;34m,\u001b[0m \u001b[0mname\u001b[0m\u001b[0;34m)\u001b[0m\u001b[0;34m\u001b[0m\u001b[0;34m\u001b[0m\u001b[0m\n\u001b[0m\u001b[1;32m    501\u001b[0m \u001b[0;34m\u001b[0m\u001b[0m\n",
      "\u001b[0;32m/usr/lib/python3/dist-packages/sage/cpython/getattr.pyx\u001b[0m in \u001b[0;36msage.cpython.getattr.getattr_from_other_class (build/cythonized/sage/cpython/getattr.c:2614)\u001b[0;34m()\u001b[0m\n\u001b[1;32m    393\u001b[0m         \u001b[0mdummy_error_message\u001b[0m\u001b[0;34m.\u001b[0m\u001b[0mname\u001b[0m \u001b[0;34m=\u001b[0m \u001b[0mname\u001b[0m\u001b[0;34m\u001b[0m\u001b[0;34m\u001b[0m\u001b[0m\n\u001b[0;32m--> 394\u001b[0;31m         \u001b[0;32mraise\u001b[0m \u001b[0mAttributeError\u001b[0m\u001b[0;34m(\u001b[0m\u001b[0mdummy_error_message\u001b[0m\u001b[0;34m)\u001b[0m\u001b[0;34m\u001b[0m\u001b[0;34m\u001b[0m\u001b[0m\n\u001b[0m\u001b[1;32m    395\u001b[0m     \u001b[0mattribute\u001b[0m \u001b[0;34m=\u001b[0m \u001b[0;34m<\u001b[0m\u001b[0mobject\u001b[0m\u001b[0;34m>\u001b[0m\u001b[0mattr\u001b[0m\u001b[0;34m\u001b[0m\u001b[0;34m\u001b[0m\u001b[0m\n",
      "\u001b[0;31mAttributeError\u001b[0m: 'sage.rings.finite_rings.integer_mod.IntegerMod_int' object has no attribute '_symbolic_'",
      "\nDuring handling of the above exception, another exception occurred:\n",
      "\u001b[0;31mTypeError\u001b[0m                                 Traceback (most recent call last)",
      "\u001b[0;32m/tmp/ipykernel_544/2179348875.py\u001b[0m in \u001b[0;36m<module>\u001b[0;34m\u001b[0m\n\u001b[1;32m     38\u001b[0m \u001b[0mprint\u001b[0m\u001b[0;34m(\u001b[0m\u001b[0ms_1_x\u001b[0m\u001b[0;34m)\u001b[0m\u001b[0;34m\u001b[0m\u001b[0;34m\u001b[0m\u001b[0m\n\u001b[1;32m     39\u001b[0m \u001b[0;34m\u001b[0m\u001b[0m\n\u001b[0;32m---> 40\u001b[0;31m \u001b[0mpsi_dc\u001b[0m\u001b[0;34m*\u001b[0m\u001b[0ms_1_x\u001b[0m\u001b[0;34m\u001b[0m\u001b[0;34m\u001b[0m\u001b[0m\n\u001b[0m\u001b[1;32m     41\u001b[0m \u001b[0;34m\u001b[0m\u001b[0m\n\u001b[1;32m     42\u001b[0m \u001b[0mprint\u001b[0m\u001b[0;34m(\u001b[0m\u001b[0mpsi_dc\u001b[0m\u001b[0;34m*\u001b[0m\u001b[0ms_1_x\u001b[0m\u001b[0;34m*\u001b[0m\u001b[0mpsi_dc\u001b[0m\u001b[0;34m.\u001b[0m\u001b[0mtranspose\u001b[0m\u001b[0;34m(\u001b[0m\u001b[0;34m)\u001b[0m\u001b[0;34m)\u001b[0m\u001b[0;34m\u001b[0m\u001b[0;34m\u001b[0m\u001b[0m\n",
      "\u001b[0;32m/usr/lib/python3/dist-packages/sage/structure/element.pyx\u001b[0m in \u001b[0;36msage.structure.element.Matrix.__mul__ (build/cythonized/sage/structure/element.c:22673)\u001b[0;34m()\u001b[0m\n\u001b[1;32m   3693\u001b[0m \u001b[0;34m\u001b[0m\u001b[0m\n\u001b[1;32m   3694\u001b[0m         \u001b[0;32mif\u001b[0m \u001b[0mBOTH_ARE_ELEMENT\u001b[0m\u001b[0;34m(\u001b[0m\u001b[0mcl\u001b[0m\u001b[0;34m)\u001b[0m\u001b[0;34m:\u001b[0m\u001b[0;34m\u001b[0m\u001b[0;34m\u001b[0m\u001b[0m\n\u001b[0;32m-> 3695\u001b[0;31m             \u001b[0;32mreturn\u001b[0m \u001b[0mcoercion_model\u001b[0m\u001b[0;34m.\u001b[0m\u001b[0mbin_op\u001b[0m\u001b[0;34m(\u001b[0m\u001b[0mleft\u001b[0m\u001b[0;34m,\u001b[0m \u001b[0mright\u001b[0m\u001b[0;34m,\u001b[0m \u001b[0mmul\u001b[0m\u001b[0;34m)\u001b[0m\u001b[0;34m\u001b[0m\u001b[0;34m\u001b[0m\u001b[0m\n\u001b[0m\u001b[1;32m   3696\u001b[0m \u001b[0;34m\u001b[0m\u001b[0m\n\u001b[1;32m   3697\u001b[0m         \u001b[0mcdef\u001b[0m \u001b[0mlong\u001b[0m \u001b[0mvalue\u001b[0m\u001b[0;34m\u001b[0m\u001b[0;34m\u001b[0m\u001b[0m\n",
      "\u001b[0;32m/usr/lib/python3/dist-packages/sage/structure/coerce.pyx\u001b[0m in \u001b[0;36msage.structure.coerce.CoercionModel.bin_op (build/cythonized/sage/structure/coerce.c:10054)\u001b[0;34m()\u001b[0m\n\u001b[1;32m   1199\u001b[0m         \u001b[0;32mif\u001b[0m \u001b[0maction\u001b[0m \u001b[0;32mis\u001b[0m \u001b[0;32mnot\u001b[0m \u001b[0;32mNone\u001b[0m\u001b[0;34m:\u001b[0m\u001b[0;34m\u001b[0m\u001b[0;34m\u001b[0m\u001b[0m\n\u001b[1;32m   1200\u001b[0m             \u001b[0;32mif\u001b[0m \u001b[0;34m(\u001b[0m\u001b[0;34m<\u001b[0m\u001b[0mAction\u001b[0m\u001b[0;34m>\u001b[0m\u001b[0maction\u001b[0m\u001b[0;34m)\u001b[0m\u001b[0;34m.\u001b[0m\u001b[0m_is_left\u001b[0m\u001b[0;34m:\u001b[0m\u001b[0;34m\u001b[0m\u001b[0;34m\u001b[0m\u001b[0m\n\u001b[0;32m-> 1201\u001b[0;31m                 \u001b[0;32mreturn\u001b[0m \u001b[0;34m(\u001b[0m\u001b[0;34m<\u001b[0m\u001b[0mAction\u001b[0m\u001b[0;34m>\u001b[0m\u001b[0maction\u001b[0m\u001b[0;34m)\u001b[0m\u001b[0;34m.\u001b[0m\u001b[0m_act_\u001b[0m\u001b[0;34m(\u001b[0m\u001b[0mx\u001b[0m\u001b[0;34m,\u001b[0m \u001b[0my\u001b[0m\u001b[0;34m)\u001b[0m\u001b[0;34m\u001b[0m\u001b[0;34m\u001b[0m\u001b[0m\n\u001b[0m\u001b[1;32m   1202\u001b[0m             \u001b[0;32melse\u001b[0m\u001b[0;34m:\u001b[0m\u001b[0;34m\u001b[0m\u001b[0;34m\u001b[0m\u001b[0m\n\u001b[1;32m   1203\u001b[0m                 \u001b[0;32mreturn\u001b[0m \u001b[0;34m(\u001b[0m\u001b[0;34m<\u001b[0m\u001b[0mAction\u001b[0m\u001b[0;34m>\u001b[0m\u001b[0maction\u001b[0m\u001b[0;34m)\u001b[0m\u001b[0;34m.\u001b[0m\u001b[0m_act_\u001b[0m\u001b[0;34m(\u001b[0m\u001b[0my\u001b[0m\u001b[0;34m,\u001b[0m \u001b[0mx\u001b[0m\u001b[0;34m)\u001b[0m\u001b[0;34m\u001b[0m\u001b[0;34m\u001b[0m\u001b[0m\n",
      "\u001b[0;32m/usr/lib/python3/dist-packages/sage/matrix/action.pyx\u001b[0m in \u001b[0;36msage.matrix.action.MatrixMatrixAction._act_ (build/cythonized/sage/matrix/action.c:4802)\u001b[0;34m()\u001b[0m\n\u001b[1;32m    256\u001b[0m         \u001b[0mcdef\u001b[0m \u001b[0mMatrix\u001b[0m \u001b[0mB\u001b[0m \u001b[0;34m=\u001b[0m \u001b[0;34m<\u001b[0m\u001b[0mMatrix\u001b[0m\u001b[0;34m>\u001b[0m\u001b[0ms\u001b[0m\u001b[0;34m\u001b[0m\u001b[0;34m\u001b[0m\u001b[0m\n\u001b[1;32m    257\u001b[0m         \u001b[0;32mif\u001b[0m \u001b[0mA\u001b[0m\u001b[0;34m.\u001b[0m\u001b[0m_parent\u001b[0m\u001b[0;34m.\u001b[0m\u001b[0m_base\u001b[0m \u001b[0;32mis\u001b[0m \u001b[0;32mnot\u001b[0m \u001b[0mself\u001b[0m\u001b[0;34m.\u001b[0m\u001b[0m_codomain\u001b[0m\u001b[0;34m.\u001b[0m\u001b[0m_base\u001b[0m\u001b[0;34m:\u001b[0m\u001b[0;34m\u001b[0m\u001b[0;34m\u001b[0m\u001b[0m\n\u001b[0;32m--> 258\u001b[0;31m             \u001b[0mA\u001b[0m \u001b[0;34m=\u001b[0m \u001b[0mA\u001b[0m\u001b[0;34m.\u001b[0m\u001b[0mchange_ring\u001b[0m\u001b[0;34m(\u001b[0m\u001b[0mself\u001b[0m\u001b[0;34m.\u001b[0m\u001b[0m_codomain\u001b[0m\u001b[0;34m.\u001b[0m\u001b[0m_base\u001b[0m\u001b[0;34m)\u001b[0m\u001b[0;34m\u001b[0m\u001b[0;34m\u001b[0m\u001b[0m\n\u001b[0m\u001b[1;32m    259\u001b[0m         \u001b[0;32mif\u001b[0m \u001b[0mB\u001b[0m\u001b[0;34m.\u001b[0m\u001b[0m_parent\u001b[0m\u001b[0;34m.\u001b[0m\u001b[0m_base\u001b[0m \u001b[0;32mis\u001b[0m \u001b[0;32mnot\u001b[0m \u001b[0mself\u001b[0m\u001b[0;34m.\u001b[0m\u001b[0m_codomain\u001b[0m\u001b[0;34m.\u001b[0m\u001b[0m_base\u001b[0m\u001b[0;34m:\u001b[0m\u001b[0;34m\u001b[0m\u001b[0;34m\u001b[0m\u001b[0m\n\u001b[1;32m    260\u001b[0m             \u001b[0mB\u001b[0m \u001b[0;34m=\u001b[0m \u001b[0mB\u001b[0m\u001b[0;34m.\u001b[0m\u001b[0mchange_ring\u001b[0m\u001b[0;34m(\u001b[0m\u001b[0mself\u001b[0m\u001b[0;34m.\u001b[0m\u001b[0m_codomain\u001b[0m\u001b[0;34m.\u001b[0m\u001b[0m_base\u001b[0m\u001b[0;34m)\u001b[0m\u001b[0;34m\u001b[0m\u001b[0;34m\u001b[0m\u001b[0m\n",
      "\u001b[0;32m/usr/lib/python3/dist-packages/sage/matrix/matrix0.pyx\u001b[0m in \u001b[0;36msage.matrix.matrix0.Matrix.change_ring (build/cythonized/sage/matrix/matrix0.c:11212)\u001b[0;34m()\u001b[0m\n\u001b[1;32m   1635\u001b[0m         \u001b[0;32mexcept\u001b[0m \u001b[0;34m(\u001b[0m\u001b[0mAttributeError\u001b[0m\u001b[0;34m,\u001b[0m \u001b[0mNotImplementedError\u001b[0m\u001b[0;34m)\u001b[0m\u001b[0;34m:\u001b[0m\u001b[0;34m\u001b[0m\u001b[0;34m\u001b[0m\u001b[0m\n\u001b[1;32m   1636\u001b[0m             \u001b[0mM\u001b[0m \u001b[0;34m=\u001b[0m \u001b[0msage\u001b[0m\u001b[0;34m.\u001b[0m\u001b[0mmatrix\u001b[0m\u001b[0;34m.\u001b[0m\u001b[0mmatrix_space\u001b[0m\u001b[0;34m.\u001b[0m\u001b[0mMatrixSpace\u001b[0m\u001b[0;34m(\u001b[0m\u001b[0mring\u001b[0m\u001b[0;34m,\u001b[0m \u001b[0mself\u001b[0m\u001b[0;34m.\u001b[0m\u001b[0m_nrows\u001b[0m\u001b[0;34m,\u001b[0m \u001b[0mself\u001b[0m\u001b[0;34m.\u001b[0m\u001b[0m_ncols\u001b[0m\u001b[0;34m,\u001b[0m \u001b[0msparse\u001b[0m\u001b[0;34m=\u001b[0m\u001b[0mself\u001b[0m\u001b[0;34m.\u001b[0m\u001b[0mis_sparse\u001b[0m\u001b[0;34m(\u001b[0m\u001b[0;34m)\u001b[0m\u001b[0;34m)\u001b[0m\u001b[0;34m\u001b[0m\u001b[0;34m\u001b[0m\u001b[0m\n\u001b[0;32m-> 1637\u001b[0;31m             \u001b[0mmat\u001b[0m \u001b[0;34m=\u001b[0m \u001b[0mM\u001b[0m\u001b[0;34m(\u001b[0m\u001b[0mself\u001b[0m\u001b[0;34m.\u001b[0m\u001b[0mlist\u001b[0m\u001b[0;34m(\u001b[0m\u001b[0;34m)\u001b[0m\u001b[0;34m,\u001b[0m \u001b[0mcoerce\u001b[0m\u001b[0;34m=\u001b[0m\u001b[0;32mTrue\u001b[0m\u001b[0;34m,\u001b[0m \u001b[0mcopy\u001b[0m\u001b[0;34m=\u001b[0m\u001b[0;32mFalse\u001b[0m\u001b[0;34m)\u001b[0m\u001b[0;34m\u001b[0m\u001b[0;34m\u001b[0m\u001b[0m\n\u001b[0m\u001b[1;32m   1638\u001b[0m             \u001b[0mmat\u001b[0m\u001b[0;34m.\u001b[0m\u001b[0msubdivide\u001b[0m\u001b[0;34m(\u001b[0m\u001b[0mself\u001b[0m\u001b[0;34m.\u001b[0m\u001b[0msubdivisions\u001b[0m\u001b[0;34m(\u001b[0m\u001b[0;34m)\u001b[0m\u001b[0;34m)\u001b[0m\u001b[0;34m\u001b[0m\u001b[0;34m\u001b[0m\u001b[0m\n\u001b[1;32m   1639\u001b[0m             \u001b[0;32mreturn\u001b[0m \u001b[0mmat\u001b[0m\u001b[0;34m\u001b[0m\u001b[0;34m\u001b[0m\u001b[0m\n",
      "\u001b[0;32m/usr/lib/python3/dist-packages/sage/matrix/matrix_space.py\u001b[0m in \u001b[0;36m__call__\u001b[0;34m(self, entries, coerce, copy)\u001b[0m\n\u001b[1;32m    814\u001b[0m             \u001b[0;34m[\u001b[0m\u001b[0mt\u001b[0m\u001b[0;34m]\u001b[0m\u001b[0;34m\u001b[0m\u001b[0;34m\u001b[0m\u001b[0m\n\u001b[1;32m    815\u001b[0m         \"\"\"\n\u001b[0;32m--> 816\u001b[0;31m         \u001b[0;32mreturn\u001b[0m \u001b[0mself\u001b[0m\u001b[0;34m.\u001b[0m\u001b[0melement_class\u001b[0m\u001b[0;34m(\u001b[0m\u001b[0mself\u001b[0m\u001b[0;34m,\u001b[0m \u001b[0mentries\u001b[0m\u001b[0;34m,\u001b[0m \u001b[0mcopy\u001b[0m\u001b[0;34m,\u001b[0m \u001b[0mcoerce\u001b[0m\u001b[0;34m)\u001b[0m\u001b[0;34m\u001b[0m\u001b[0;34m\u001b[0m\u001b[0m\n\u001b[0m\u001b[1;32m    817\u001b[0m \u001b[0;34m\u001b[0m\u001b[0m\n\u001b[1;32m    818\u001b[0m     \u001b[0;32mdef\u001b[0m \u001b[0mchange_ring\u001b[0m\u001b[0;34m(\u001b[0m\u001b[0mself\u001b[0m\u001b[0;34m,\u001b[0m \u001b[0mR\u001b[0m\u001b[0;34m)\u001b[0m\u001b[0;34m:\u001b[0m\u001b[0;34m\u001b[0m\u001b[0;34m\u001b[0m\u001b[0m\n",
      "\u001b[0;32m/usr/lib/python3/dist-packages/sage/matrix/matrix_generic_dense.pyx\u001b[0m in \u001b[0;36msage.matrix.matrix_generic_dense.Matrix_generic_dense.__init__ (build/cythonized/sage/matrix/matrix_generic_dense.c:2805)\u001b[0;34m()\u001b[0m\n\u001b[1;32m     82\u001b[0m         \"\"\"\n\u001b[1;32m     83\u001b[0m         \u001b[0mma\u001b[0m \u001b[0;34m=\u001b[0m \u001b[0mMatrixArgs_init\u001b[0m\u001b[0;34m(\u001b[0m\u001b[0mparent\u001b[0m\u001b[0;34m,\u001b[0m \u001b[0mentries\u001b[0m\u001b[0;34m)\u001b[0m\u001b[0;34m\u001b[0m\u001b[0;34m\u001b[0m\u001b[0m\n\u001b[0;32m---> 84\u001b[0;31m         \u001b[0mself\u001b[0m\u001b[0;34m.\u001b[0m\u001b[0m_entries\u001b[0m \u001b[0;34m=\u001b[0m \u001b[0mma\u001b[0m\u001b[0;34m.\u001b[0m\u001b[0mlist\u001b[0m\u001b[0;34m(\u001b[0m\u001b[0mcoerce\u001b[0m\u001b[0;34m)\u001b[0m\u001b[0;34m\u001b[0m\u001b[0;34m\u001b[0m\u001b[0m\n\u001b[0m\u001b[1;32m     85\u001b[0m \u001b[0;34m\u001b[0m\u001b[0m\n\u001b[1;32m     86\u001b[0m     \u001b[0mcdef\u001b[0m \u001b[0mMatrix_generic_dense\u001b[0m \u001b[0m_new\u001b[0m\u001b[0;34m(\u001b[0m\u001b[0mself\u001b[0m\u001b[0;34m,\u001b[0m \u001b[0mPy_ssize_t\u001b[0m \u001b[0mnrows\u001b[0m\u001b[0;34m,\u001b[0m \u001b[0mPy_ssize_t\u001b[0m \u001b[0mncols\u001b[0m\u001b[0;34m)\u001b[0m\u001b[0;34m:\u001b[0m\u001b[0;34m\u001b[0m\u001b[0;34m\u001b[0m\u001b[0m\n",
      "\u001b[0;32m/usr/lib/python3/dist-packages/sage/matrix/args.pyx\u001b[0m in \u001b[0;36msage.matrix.args.MatrixArgs.list (build/cythonized/sage/matrix/args.c:8240)\u001b[0;34m()\u001b[0m\n\u001b[1;32m    724\u001b[0m                     \u001b[0mL\u001b[0m \u001b[0;34m=\u001b[0m \u001b[0mL\u001b[0m\u001b[0;34m[\u001b[0m\u001b[0;34m:\u001b[0m\u001b[0;34m]\u001b[0m\u001b[0;34m\u001b[0m\u001b[0;34m\u001b[0m\u001b[0m\n\u001b[1;32m    725\u001b[0m         \u001b[0;32melse\u001b[0m\u001b[0;34m:\u001b[0m\u001b[0;34m\u001b[0m\u001b[0;34m\u001b[0m\u001b[0m\n\u001b[0;32m--> 726\u001b[0;31m             \u001b[0mL\u001b[0m \u001b[0;34m=\u001b[0m \u001b[0mlist\u001b[0m\u001b[0;34m(\u001b[0m\u001b[0mself\u001b[0m\u001b[0;34m.\u001b[0m\u001b[0miter\u001b[0m\u001b[0;34m(\u001b[0m\u001b[0mconvert\u001b[0m\u001b[0;34m)\u001b[0m\u001b[0;34m)\u001b[0m\u001b[0;34m\u001b[0m\u001b[0;34m\u001b[0m\u001b[0m\n\u001b[0m\u001b[1;32m    727\u001b[0m \u001b[0;34m\u001b[0m\u001b[0m\n\u001b[1;32m    728\u001b[0m         \u001b[0mcdef\u001b[0m \u001b[0mlong\u001b[0m \u001b[0mN\u001b[0m \u001b[0;34m=\u001b[0m \u001b[0mself\u001b[0m\u001b[0;34m.\u001b[0m\u001b[0mnrows\u001b[0m \u001b[0;34m*\u001b[0m \u001b[0mself\u001b[0m\u001b[0;34m.\u001b[0m\u001b[0mncols\u001b[0m\u001b[0;34m\u001b[0m\u001b[0;34m\u001b[0m\u001b[0m\n",
      "\u001b[0;32m/usr/lib/python3/dist-packages/sage/matrix/args.pyx\u001b[0m in \u001b[0;36miter (build/cythonized/sage/matrix/args.c:6632)\u001b[0;34m()\u001b[0m\n\u001b[1;32m    526\u001b[0m                     \u001b[0mx\u001b[0m \u001b[0;34m=\u001b[0m \u001b[0mnext\u001b[0m\u001b[0;34m(\u001b[0m\u001b[0mit\u001b[0m\u001b[0;34m)\u001b[0m\u001b[0;34m\u001b[0m\u001b[0;34m\u001b[0m\u001b[0m\n\u001b[1;32m    527\u001b[0m                     \u001b[0;32mif\u001b[0m \u001b[0mconvert\u001b[0m \u001b[0;32mand\u001b[0m \u001b[0mself\u001b[0m\u001b[0;34m.\u001b[0m\u001b[0mneed_to_convert\u001b[0m\u001b[0;34m(\u001b[0m\u001b[0mx\u001b[0m\u001b[0;34m)\u001b[0m\u001b[0;34m:\u001b[0m\u001b[0;34m\u001b[0m\u001b[0;34m\u001b[0m\u001b[0m\n\u001b[0;32m--> 528\u001b[0;31m                         \u001b[0mx\u001b[0m \u001b[0;34m=\u001b[0m \u001b[0mself\u001b[0m\u001b[0;34m.\u001b[0m\u001b[0mbase\u001b[0m\u001b[0;34m(\u001b[0m\u001b[0mx\u001b[0m\u001b[0;34m)\u001b[0m\u001b[0;34m\u001b[0m\u001b[0;34m\u001b[0m\u001b[0m\n\u001b[0m\u001b[1;32m    529\u001b[0m                     \u001b[0;32mif\u001b[0m \u001b[0msparse\u001b[0m\u001b[0;34m:\u001b[0m\u001b[0;34m\u001b[0m\u001b[0;34m\u001b[0m\u001b[0m\n\u001b[1;32m    530\u001b[0m                         \u001b[0;32myield\u001b[0m \u001b[0mmake_SparseEntry\u001b[0m\u001b[0;34m(\u001b[0m\u001b[0mi\u001b[0m\u001b[0;34m,\u001b[0m \u001b[0mj\u001b[0m\u001b[0;34m,\u001b[0m \u001b[0mx\u001b[0m\u001b[0;34m)\u001b[0m\u001b[0;34m\u001b[0m\u001b[0;34m\u001b[0m\u001b[0m\n",
      "\u001b[0;32m/usr/lib/python3/dist-packages/sage/structure/parent.pyx\u001b[0m in \u001b[0;36msage.structure.parent.Parent.__call__ (build/cythonized/sage/structure/parent.c:9218)\u001b[0;34m()\u001b[0m\n\u001b[1;32m    898\u001b[0m         \u001b[0;32mif\u001b[0m \u001b[0mmor\u001b[0m \u001b[0;32mis\u001b[0m \u001b[0;32mnot\u001b[0m \u001b[0;32mNone\u001b[0m\u001b[0;34m:\u001b[0m\u001b[0;34m\u001b[0m\u001b[0;34m\u001b[0m\u001b[0m\n\u001b[1;32m    899\u001b[0m             \u001b[0;32mif\u001b[0m \u001b[0mno_extra_args\u001b[0m\u001b[0;34m:\u001b[0m\u001b[0;34m\u001b[0m\u001b[0;34m\u001b[0m\u001b[0m\n\u001b[0;32m--> 900\u001b[0;31m                 \u001b[0;32mreturn\u001b[0m \u001b[0mmor\u001b[0m\u001b[0;34m.\u001b[0m\u001b[0m_call_\u001b[0m\u001b[0;34m(\u001b[0m\u001b[0mx\u001b[0m\u001b[0;34m)\u001b[0m\u001b[0;34m\u001b[0m\u001b[0;34m\u001b[0m\u001b[0m\n\u001b[0m\u001b[1;32m    901\u001b[0m             \u001b[0;32melse\u001b[0m\u001b[0;34m:\u001b[0m\u001b[0;34m\u001b[0m\u001b[0;34m\u001b[0m\u001b[0m\n\u001b[1;32m    902\u001b[0m                 \u001b[0;32mreturn\u001b[0m \u001b[0mmor\u001b[0m\u001b[0;34m.\u001b[0m\u001b[0m_call_with_args\u001b[0m\u001b[0;34m(\u001b[0m\u001b[0mx\u001b[0m\u001b[0;34m,\u001b[0m \u001b[0margs\u001b[0m\u001b[0;34m,\u001b[0m \u001b[0mkwds\u001b[0m\u001b[0;34m)\u001b[0m\u001b[0;34m\u001b[0m\u001b[0;34m\u001b[0m\u001b[0m\n",
      "\u001b[0;32m/usr/lib/python3/dist-packages/sage/structure/coerce_maps.pyx\u001b[0m in \u001b[0;36msage.structure.coerce_maps.DefaultConvertMap_unique._call_ (build/cythonized/sage/structure/coerce_maps.c:4556)\u001b[0;34m()\u001b[0m\n\u001b[1;32m    159\u001b[0m                 \u001b[0mprint\u001b[0m\u001b[0;34m(\u001b[0m\u001b[0mtype\u001b[0m\u001b[0;34m(\u001b[0m\u001b[0mC\u001b[0m\u001b[0;34m)\u001b[0m\u001b[0;34m,\u001b[0m \u001b[0mC\u001b[0m\u001b[0;34m)\u001b[0m\u001b[0;34m\u001b[0m\u001b[0;34m\u001b[0m\u001b[0m\n\u001b[1;32m    160\u001b[0m                 \u001b[0mprint\u001b[0m\u001b[0;34m(\u001b[0m\u001b[0mtype\u001b[0m\u001b[0;34m(\u001b[0m\u001b[0mC\u001b[0m\u001b[0;34m.\u001b[0m\u001b[0m_element_constructor\u001b[0m\u001b[0;34m)\u001b[0m\u001b[0;34m,\u001b[0m \u001b[0mC\u001b[0m\u001b[0;34m.\u001b[0m\u001b[0m_element_constructor\u001b[0m\u001b[0;34m)\u001b[0m\u001b[0;34m\u001b[0m\u001b[0;34m\u001b[0m\u001b[0m\n\u001b[0;32m--> 161\u001b[0;31m             \u001b[0;32mraise\u001b[0m\u001b[0;34m\u001b[0m\u001b[0;34m\u001b[0m\u001b[0m\n\u001b[0m\u001b[1;32m    162\u001b[0m \u001b[0;34m\u001b[0m\u001b[0m\n\u001b[1;32m    163\u001b[0m     \u001b[0mcpdef\u001b[0m \u001b[0mElement\u001b[0m \u001b[0m_call_with_args\u001b[0m\u001b[0;34m(\u001b[0m\u001b[0mself\u001b[0m\u001b[0;34m,\u001b[0m \u001b[0mx\u001b[0m\u001b[0;34m,\u001b[0m \u001b[0margs\u001b[0m\u001b[0;34m=\u001b[0m\u001b[0;34m(\u001b[0m\u001b[0;34m)\u001b[0m\u001b[0;34m,\u001b[0m \u001b[0mkwds\u001b[0m\u001b[0;34m=\u001b[0m\u001b[0;34m{\u001b[0m\u001b[0;34m}\u001b[0m\u001b[0;34m)\u001b[0m\u001b[0;34m:\u001b[0m\u001b[0;34m\u001b[0m\u001b[0;34m\u001b[0m\u001b[0m\n",
      "\u001b[0;32m/usr/lib/python3/dist-packages/sage/structure/coerce_maps.pyx\u001b[0m in \u001b[0;36msage.structure.coerce_maps.DefaultConvertMap_unique._call_ (build/cythonized/sage/structure/coerce_maps.c:4448)\u001b[0;34m()\u001b[0m\n\u001b[1;32m    154\u001b[0m         \u001b[0mcdef\u001b[0m \u001b[0mParent\u001b[0m \u001b[0mC\u001b[0m \u001b[0;34m=\u001b[0m \u001b[0mself\u001b[0m\u001b[0;34m.\u001b[0m\u001b[0m_codomain\u001b[0m\u001b[0;34m\u001b[0m\u001b[0;34m\u001b[0m\u001b[0m\n\u001b[1;32m    155\u001b[0m         \u001b[0;32mtry\u001b[0m\u001b[0;34m:\u001b[0m\u001b[0;34m\u001b[0m\u001b[0;34m\u001b[0m\u001b[0m\n\u001b[0;32m--> 156\u001b[0;31m             \u001b[0;32mreturn\u001b[0m \u001b[0mC\u001b[0m\u001b[0;34m.\u001b[0m\u001b[0m_element_constructor\u001b[0m\u001b[0;34m(\u001b[0m\u001b[0mx\u001b[0m\u001b[0;34m)\u001b[0m\u001b[0;34m\u001b[0m\u001b[0;34m\u001b[0m\u001b[0m\n\u001b[0m\u001b[1;32m    157\u001b[0m         \u001b[0;32mexcept\u001b[0m \u001b[0mException\u001b[0m\u001b[0;34m:\u001b[0m\u001b[0;34m\u001b[0m\u001b[0;34m\u001b[0m\u001b[0m\n\u001b[1;32m    158\u001b[0m             \u001b[0;32mif\u001b[0m \u001b[0mprint_warnings\u001b[0m\u001b[0;34m:\u001b[0m\u001b[0;34m\u001b[0m\u001b[0;34m\u001b[0m\u001b[0m\n",
      "\u001b[0;32m/usr/lib/python3/dist-packages/sage/symbolic/ring.pyx\u001b[0m in \u001b[0;36msage.symbolic.ring.SymbolicRing._element_constructor_ (build/cythonized/sage/symbolic/ring.cpp:6678)\u001b[0;34m()\u001b[0m\n\u001b[1;32m    380\u001b[0m         \u001b[0;32melif\u001b[0m \u001b[0misinstance\u001b[0m\u001b[0;34m(\u001b[0m\u001b[0mx\u001b[0m\u001b[0;34m,\u001b[0m \u001b[0;34m(\u001b[0m\u001b[0mRingElement\u001b[0m\u001b[0;34m,\u001b[0m \u001b[0mMatrix\u001b[0m\u001b[0;34m)\u001b[0m\u001b[0;34m)\u001b[0m\u001b[0;34m:\u001b[0m\u001b[0;34m\u001b[0m\u001b[0;34m\u001b[0m\u001b[0m\n\u001b[1;32m    381\u001b[0m             \u001b[0;32mif\u001b[0m \u001b[0mx\u001b[0m\u001b[0;34m.\u001b[0m\u001b[0mparent\u001b[0m\u001b[0;34m(\u001b[0m\u001b[0;34m)\u001b[0m\u001b[0;34m.\u001b[0m\u001b[0mcharacteristic\u001b[0m\u001b[0;34m(\u001b[0m\u001b[0;34m)\u001b[0m\u001b[0;34m:\u001b[0m\u001b[0;34m\u001b[0m\u001b[0;34m\u001b[0m\u001b[0m\n\u001b[0;32m--> 382\u001b[0;31m                 \u001b[0;32mraise\u001b[0m \u001b[0mTypeError\u001b[0m\u001b[0;34m(\u001b[0m\u001b[0;34m'positive characteristic not allowed in symbolic computations'\u001b[0m\u001b[0;34m)\u001b[0m\u001b[0;34m\u001b[0m\u001b[0;34m\u001b[0m\u001b[0m\n\u001b[0m\u001b[1;32m    383\u001b[0m             \u001b[0mexp\u001b[0m \u001b[0;34m=\u001b[0m \u001b[0mx\u001b[0m\u001b[0;34m\u001b[0m\u001b[0;34m\u001b[0m\u001b[0m\n\u001b[1;32m    384\u001b[0m         \u001b[0;32melif\u001b[0m \u001b[0misinstance\u001b[0m\u001b[0;34m(\u001b[0m\u001b[0mx\u001b[0m\u001b[0;34m,\u001b[0m \u001b[0mFactorization\u001b[0m\u001b[0;34m)\u001b[0m\u001b[0;34m:\u001b[0m\u001b[0;34m\u001b[0m\u001b[0;34m\u001b[0m\u001b[0m\n",
      "\u001b[0;31mTypeError\u001b[0m: positive characteristic not allowed in symbolic computations"
     ]
    }
   ],
   "source": [
    "contacts = [0,1,2] # indecids of the nodes to contact to reconstruct the file. Be careful the indices in Python start from 0.\n",
    "not_contacted = [3,4]\n",
    "t_s = time.time()\n",
    "psi_dc = Psi.delete_rows([2,3]).delete_columns([2,3])\n",
    "S_contacted = S.delete_rows([3,4])\n",
    "system = S_contacted * psi_dc.transpose()\n",
    "\n",
    "\n",
    "\n",
    "coef = Psi.columns()[2]\n",
    "p_q_12 = Matrix(F, [[1, coef[0]], [1, coef[1]]])\n",
    "y = vector(F, [system[0][1], system[1][0]])\n",
    "\n",
    "p_q_1 = p_q_12\\y\n",
    "\n",
    "# print(p_q_1)\n",
    "\n",
    "p_q_13 = Matrix(F, [[1, coef[0]], [1, coef[2]]])\n",
    "y = vector(F, [system[0][2], system[2][0]])\n",
    "\n",
    "p_q_2 = p_q_13\\y\n",
    "\n",
    "# print(p_q_2)\n",
    "\n",
    "p_q_23 = Matrix(F, [[1, coef[1]], [1, coef[2]]])\n",
    "y = vector(F, [system[1][2], system[2][1]])\n",
    "\n",
    "p_q_3 = p_q_23\\y\n",
    "\n",
    "# print(p_q_3)\n",
    "\n",
    "P = Matrix(F, [[0, p_q_1[0], p_q_2[0]], [p_q_1[0], 0, p_q_3[0]], [p_q_2[0], p_q_3[0], 0]])\n",
    "\n",
    "# print(P)\n",
    "\n",
    "s_1_x = Matrix(SR, [['u1', 'u2'],['u2', 'u3']])\n",
    "\n",
    "print(s_1_x)\n",
    "\n",
    "psi_dc*s_1_x\n",
    "\n",
    "print(psi_dc*s_1_x*psi_dc.transpose())\n",
    "\n",
    "# ============================================\n",
    "#\n",
    "#\n",
    "#   Write your own codes for reconstruct the file\n",
    "#\n",
    "#\n",
    "# ============================================\n",
    "\n",
    "#t_decoding = time.time()-t_s\n",
    "#t_download = # ? # calculate the time for downloading the symbols from Node 1,2,3\n",
    "#t_reconstruct = t_decoding + t_download\n",
    "#print(\"Reconstruct time: %s\" % t_reconstruct)\n",
    "#print(\"Correctly reconstruct? %s\" % (u_reconstruct==u))"
   ]
  },
  {
   "cell_type": "code",
   "execution_count": null,
   "id": "772d98df",
   "metadata": {},
   "outputs": [],
   "source": []
  }
 ],
 "metadata": {
  "kernelspec": {
   "display_name": "SageMath 9.0",
   "language": "sage",
   "name": "sagemath"
  },
  "language_info": {
   "codemirror_mode": {
    "name": "ipython",
    "version": 3
   },
   "file_extension": ".py",
   "mimetype": "text/x-python",
   "name": "python",
   "nbconvert_exporter": "python",
   "pygments_lexer": "ipython3",
   "version": "3.8.10"
  }
 },
 "nbformat": 4,
 "nbformat_minor": 5
}
