{
 "cells": [
  {
   "cell_type": "markdown",
   "id": "7d09ae4e",
   "metadata": {},
   "source": [
    "# Coding Theory for Storage and Networks\n",
    "## Lab on Interleaved Reed-Solomon Codes"
   ]
  },
  {
   "cell_type": "markdown",
   "id": "acf93c01",
   "metadata": {},
   "source": [
    "Student: David de Andres Hernandez\n",
    "\n",
    "Student Number: 03755457"
   ]
  },
  {
   "cell_type": "markdown",
   "id": "eba5457b",
   "metadata": {},
   "source": [
    "## Task 1 Homogeneous Interleaved Reed-Solomon Code\n",
    "Let $C_1$ denote an $IRS$ code consisting of $l=2$ Reed–Solomon codes $RS(15, 8)$ over $F_{2^4}$.\n",
    "Assume that the codewords of $C_1$ were transmitted over a bursty channel and we therefore choose a common error-locator polynomial for both Reed–Solomon (RS) codes in the decoding process."
   ]
  },
  {
   "cell_type": "code",
   "execution_count": 1,
   "id": "f780f48f",
   "metadata": {},
   "outputs": [],
   "source": [
    "# Define the field order\n",
    "# We work in the Galois Field GF(16)=GF(2^4)\n",
    "p = 2\n",
    "m = 4\n",
    "q = p^m\n",
    "F.<a> = GF(q, modulus = 'primitive')\n",
    "# IRS code\n",
    "l_1 = 2 # number of rows of IRS code\n",
    "n = q - 1 # code length\n",
    "# The information length can be chosen\n",
    "k_1 = 8\n",
    "# Given evaluation points and a RS construction\n",
    "L = [a^i for i in range(n)]\n",
    "RS1 = codes.GeneralizedReedSolomonCode(L, k_1)\n",
    "# As RS codes are MDS, the minimum Hamming distance can be computed\n",
    "# directly using the Singleton bound.\n",
    "dmin_1 = n - k_1 + 1\n",
    "\n",
    "Polys  = F['x']\n",
    "#alphas = [a^i for i in range(n)]\n"
   ]
  },
  {
   "cell_type": "markdown",
   "id": "e64828d9",
   "metadata": {},
   "source": [
    "### Task 1.1 Calculate maximum number of errors decodable using IRS codes."
   ]
  },
  {
   "cell_type": "code",
   "execution_count": 2,
   "id": "76b59915",
   "metadata": {},
   "outputs": [],
   "source": [
    "tmax_1 = floor(l_1/(l_1+1)*(dmin_1-1))\n",
    "assert tmax_1 == 4, \"Maximum decoding radius is wrong.\""
   ]
  },
  {
   "cell_type": "markdown",
   "id": "07dfb308",
   "metadata": {},
   "source": [
    "### Task 1.2  Add info_12, c_12, y_12, s_12 for second RS(15,8) code at the orresponding places.\n",
    "In the file IRS.sage, 4 random information vectors info 1x are given, compute the\n",
    "corresponding codewords c 1x.\n",
    "2 error vectors occur and the resulting received words are given y 1x. Compute the\n",
    "corresponding syndromes s 1x"
   ]
  },
  {
   "cell_type": "code",
   "execution_count": 3,
   "id": "9cf12e8b",
   "metadata": {},
   "outputs": [],
   "source": [
    "# Given 4 random information vectors over GF(2^m) of length k.\n",
    "info_11 = random_vector(F, k_1)\n",
    "info_12 = random_vector(F, k_1)\n",
    "info_13 = random_vector(F, k_1)\n",
    "info_14 = random_vector(F, k_1)\n",
    "# Encode the information word using the generator matrix of the given RS code.\n",
    "G1 = RS1.generator_matrix()\n",
    "c_11 = info_11*G1\n",
    "c_12 = info_12*G1\n",
    "c_13 = info_13*G1\n",
    "c_14 = info_14*G1"
   ]
  },
  {
   "cell_type": "code",
   "execution_count": 4,
   "id": "e953e2dd",
   "metadata": {},
   "outputs": [
    {
     "name": "stdout",
     "output_type": "stream",
     "text": [
      "(a^3 + a^2 + a, a^2, 1, a, a^3 + a^2, a^2 + a, a^2 + a + 1, 0, a^3 + a^2 + 1, a, 1, a + 1, a^3 + a^2, a^2 + a, a^3 + a^2 + a + 1)\n"
     ]
    }
   ],
   "source": [
    "print(c_11)"
   ]
  },
  {
   "cell_type": "code",
   "execution_count": 5,
   "id": "ef118df4",
   "metadata": {},
   "outputs": [
    {
     "name": "stdout",
     "output_type": "stream",
     "text": [
      "[1, 5, 9, 10]\n"
     ]
    }
   ],
   "source": [
    "# Create error vectors\n",
    "e_11 = vector(F, n)\n",
    "e_11[1] = a^2\n",
    "e_11[5] = a^4\n",
    "e_11[9] = a^10\n",
    "e_11[10] = a^3\n",
    "\n",
    "error_pos = [i for i in range(0, n) if not e_11[i].is_zero()]\n",
    "print(error_pos)\n",
    "\n",
    "\n",
    "e_12 = vector(F, n)\n",
    "e_12[1] = a^6\n",
    "e_12[5] = a^7\n",
    "e_12[9] = a^2\n",
    "e_12[10] = a^3"
   ]
  },
  {
   "cell_type": "code",
   "execution_count": 6,
   "id": "e38323f2",
   "metadata": {},
   "outputs": [],
   "source": [
    "# Add the error to the codeword to obtain the received vector\n",
    "y_11 = c_11 + e_11\n",
    "y_12 = c_12 + e_12\n",
    "y_13 = c_13 + e_11\n",
    "y_14 = c_14 + e_12\n",
    "\n",
    "# Calculate the syndromes.\n",
    "H1 = RS1.parity_check_matrix()\n",
    "s_11 = y_11 * H1.transpose()\n",
    "s_12 = y_12 * H1.transpose()\n",
    "s_13 = y_13 * H1.transpose()\n",
    "s_14 = y_14 * H1.transpose()\n",
    "\n",
    "assert s_11 == s_13, \"s_11 and s_13 should be equal.\"\n",
    "assert s_12 == s_14, \"s_12 and s_14 should be equal.\""
   ]
  },
  {
   "cell_type": "markdown",
   "id": "27d124d4",
   "metadata": {},
   "source": [
    "### Task 1.3 Implement a function irs_decoding() that returns the error positions given the syndrome.\n",
    "Hint: construct and solve the linear system of equations for finding the error locator\n",
    "polynomial. Find the roots of the error locator polynomial to find the error locations."
   ]
  },
  {
   "cell_type": "code",
   "execution_count": 7,
   "id": "2ba8e82d",
   "metadata": {},
   "outputs": [],
   "source": [
    "def irs_decoding(F, tmax, synd_vec):\n",
    "    \"\"\"\n",
    "    locate the errors by solving the linear system of equations\n",
    "    Input parameters:\n",
    "        F: the Field\n",
    "        tmax: Maximum number of errors decodable by IRS codes\n",
    "        synd_vec: Syndrome vectors\n",
    "    Return values:\n",
    "        errloc: locations of the errors\n",
    "        t: Actual number of errors\n",
    "    \"\"\"\n",
    "    t = tmax\n",
    "    \n",
    "    S = None\n",
    "    T = None\n",
    "    \n",
    "    for i, synd in enumerate(synd_vec):        \n",
    "        if S == None:\n",
    "            S = matrix(F, len(synd)-t, t, lambda i,j: synd[t-1-j+i])\n",
    "            T = vector([synd[t+i] for i in range(len(synd)-t)])\n",
    "        else:\n",
    "            S2 = matrix(F, len(synd)-t, t, lambda i,j: synd[t-1-j+i]) # Set up syndrome matrix S\n",
    "            S = S.stack(S2)\n",
    "            T2 = vector([synd[t+i] for i in range(len(synd)-t)])\n",
    "            T = vector(T.list() + T2.list())\n",
    "    \n",
    "    while(S.rank() < t): # Determine the rank of S \n",
    "        t=-1 # if < tmax errors happened, the rank would be <t and we would need to decrease tmax\n",
    "        \n",
    "        S = None\n",
    "        T = None\n",
    "\n",
    "        for synd in synd_vec:\n",
    "            if S == None:\n",
    "                S = matrix(F, len(synd)-t, t, lambda i,j: synd[t-1-j+i])\n",
    "                T = vector([synd[t+i] for i in range(len(synd)-t)])\n",
    "            else:\n",
    "                S2 = matrix(F, len(synd)-t, t, lambda i,j: synd[t-1-j+i]) # Set up syndrome matrix S\n",
    "                S = S.stack(S2)\n",
    "                T2 = vector([synd[t+i] for i in range(len(synd)-t)])\n",
    "                T = vector(T.list() + T2.list())\n",
    "    \n",
    "    lambdavec = S.solve_right(-T)\t\t\t# Obtain Lambda_1,...,Lambda_t\n",
    "    ELP = Polys([1]+lambdavec.list())\t\t# Compute Lambda(x)\n",
    "    \n",
    "    errloc = [l for l in range(n) if ELP(L[l]^-1)==0]\t# Find the error positions by evaluating Lambda(x) at all alphas[l]^-1\n",
    "\n",
    "    return errloc, t"
   ]
  },
  {
   "cell_type": "code",
   "execution_count": 8,
   "id": "200894e5",
   "metadata": {},
   "outputs": [
    {
     "name": "stdout",
     "output_type": "stream",
     "text": [
      "4\n",
      "Error positions:\n",
      " [1, 5, 9, 10]\n"
     ]
    }
   ],
   "source": [
    "# Calculate the error positions.\n",
    "errloc, t = irs_decoding(F, tmax_1, [s_13, s_14])\n",
    "errloc.sort()\n",
    "print(t)\n",
    "\n",
    "assert errloc == [1,5,9,10], \"Error locations are wrong.\"\n",
    "print('Error positions:\\n %s' % errloc)"
   ]
  },
  {
   "cell_type": "markdown",
   "id": "0f658fcc",
   "metadata": {},
   "source": [
    "## Task 2 Heterogeneous Interleaved Reed-Solomon Code\n",
    "We extend $C_1$ to a heterogeneous IRS code $C_2$ of interleaving order $l = 3$ by adding an RS code over $F_{2^\n",
    "4}$ of length $n = 15$ and dimension $k_2 = 6$. We assume one common error-locator polynomial for all three RS codes."
   ]
  },
  {
   "cell_type": "code",
   "execution_count": 9,
   "id": "e187ac88",
   "metadata": {},
   "outputs": [],
   "source": [
    "k_2 = 6\n",
    "# Create the RS code for the given k_2\n",
    "RS2 = codes.GeneralizedReedSolomonCode(L, k_2)\n",
    "# encode the random info_2 using generator matrix\n",
    "G2 = RS2.generator_matrix()\n",
    "info_2 = random_vector(F, k_2)\n",
    "c_2 = info_2 * G2"
   ]
  },
  {
   "cell_type": "code",
   "execution_count": 10,
   "id": "9a643e8e",
   "metadata": {},
   "outputs": [],
   "source": [
    "# error vector\n",
    "e_2 = vector(F, n)\n",
    "e_2[1] = a^2\n",
    "e_2[5] = a^3\n",
    "e_2[9] = a^1\n",
    "e_2[10] = a^9\n",
    "e_2[12] = a^4\n",
    "e_11[12] = a\n",
    "e_12[12] = 1\n",
    "# Add the error to the codeword to obtain the received vector.\n",
    "y_2 = c_2 + e_2\n",
    "y_11 = c_11 + e_11\n",
    "y_12 = c_12 + e_12"
   ]
  },
  {
   "cell_type": "markdown",
   "id": "8fa3cdf5",
   "metadata": {},
   "source": [
    "### Task 2.1 Calculate maximum number of errors decodable.\n",
    "What is the decoding radius $t_{max,2}$ of $C_2$?"
   ]
  },
  {
   "cell_type": "code",
   "execution_count": 11,
   "id": "cdcdeece",
   "metadata": {},
   "outputs": [
    {
     "name": "stdout",
     "output_type": "stream",
     "text": [
      "t_max,2 =  5\n"
     ]
    }
   ],
   "source": [
    "k_mean = mean([k_1, k_1, k_2])\n",
    "l_2 = 3\n",
    "tmax_2 = floor(l_2/(l_2+1)*(n-k_mean))\n",
    "print(\"t_max,2 = \", tmax_2)"
   ]
  },
  {
   "cell_type": "markdown",
   "id": "5b7168e7",
   "metadata": {},
   "source": [
    "### Task 2.2 Calculate the syndrome $S_2$ corresponding to the additional RS code.\n",
    "Calculate the syndromes s11, s12, s2 corresponding to the new error vector given in\n",
    "the file IRS.sage"
   ]
  },
  {
   "cell_type": "code",
   "execution_count": 12,
   "id": "511e8779",
   "metadata": {},
   "outputs": [],
   "source": [
    "H2 = RS2.parity_check_matrix()\n",
    "s_2 = y_2 * H2.transpose()\n",
    "s_11 = y_11 * H1.transpose()\n",
    "s_12 = y_12 * H1.transpose()"
   ]
  },
  {
   "cell_type": "markdown",
   "id": "f04468db",
   "metadata": {},
   "source": [
    "### Task 2.3 Calculate the error positions using system of equations.\n",
    "Use the function irs decoding() to find the error locations."
   ]
  },
  {
   "cell_type": "code",
   "execution_count": 13,
   "id": "1591a2ca",
   "metadata": {},
   "outputs": [
    {
     "name": "stdout",
     "output_type": "stream",
     "text": [
      "Error positions of heterogeneous IRS:\n",
      " [1, 5, 9, 10, 12]\n"
     ]
    }
   ],
   "source": [
    "errloc, t = irs_decoding(F, tmax_2, [s_2, s_11, s_12])\n",
    "errloc.sort()\n",
    "assert errloc == [1,5,9,10,12], \"Error locations are wrong.\"\n",
    "print('Error positions of heterogeneous IRS:\\n %s' % errloc)"
   ]
  },
  {
   "cell_type": "markdown",
   "id": "1283c5ad",
   "metadata": {},
   "source": [
    "### Task 2.4 Do we need the syndromes of all three RS codes for the decoding?"
   ]
  },
  {
   "cell_type": "markdown",
   "id": "ffbb50c9",
   "metadata": {},
   "source": [
    "No, we don't need all the syndromes, as $t_{max}=5$, we only need 5 equations. With $s_2$ and $s_{11}$ we already have 6 equations for decoding."
   ]
  },
  {
   "cell_type": "markdown",
   "id": "962121d1",
   "metadata": {},
   "source": [
    "## Task 3: Virtual Interleaving (Power Decoding)\n",
    "In order to decode the RS(15, 2) code over $F_{2^4}$ beyond half the minimum distance, we extend it virtually to a heterogeneous IRS code."
   ]
  },
  {
   "cell_type": "code",
   "execution_count": 14,
   "id": "aeabd03d",
   "metadata": {},
   "outputs": [],
   "source": [
    "k = 2;\n",
    "RS4 = codes.GeneralizedReedSolomonCode(L, k)\n",
    "# Create a random information word over GF(2^m) of length k.\n",
    "info = random_vector(F, k)\n",
    "\n",
    "# Encode the information word using generator matrix of a RS code.\n",
    "G4 = RS4.generator_matrix()\n",
    "c = info * G4\n",
    "\n",
    "# errors happen at index = 0,2,3,4,6,9,11,13,14\n",
    "e = vector(F, [a^5, 0, a^2, a^6, a^1, 0, a, 0, 0, a^5, 0, a^6, 0, a^7, a^9])\n",
    "\n",
    "# Add the error to the codeword to obtain the received vector.\n",
    "y = c + e"
   ]
  },
  {
   "cell_type": "markdown",
   "id": "f7708f4e",
   "metadata": {},
   "source": [
    "### Task 3.1\n",
    "Calculate the maximum decoding radii for all virtual interleaving orders i = 2,...,6. Determine the sufficient virtual interleaving order."
   ]
  },
  {
   "cell_type": "code",
   "execution_count": 15,
   "id": "e6992205",
   "metadata": {},
   "outputs": [
    {
     "name": "stdout",
     "output_type": "stream",
     "text": [
      "i=2, t_max(2) = 8\n",
      "i=3, t_max(3) = 9\n",
      "i=4, t_max(4) = 9\n",
      "i=5, t_max(5) = 9\n",
      "i=6, t_max(6) = 9\n"
     ]
    }
   ],
   "source": [
    "t_max_l = {}\n",
    "for i in range(2,7):\n",
    "    k_avg = ((k - 1) * (i + 1)) / 2 + 1\n",
    "    t_max_i = floor((i/(i+1))*(n-k_avg))\n",
    "    t_max_l[i] = t_max_i\n",
    "    print(f'i={i}, t_max({i}) = {t_max_i}') "
   ]
  },
  {
   "cell_type": "code",
   "execution_count": 16,
   "id": "8ca2edce",
   "metadata": {
    "scrolled": true
   },
   "outputs": [
    {
     "name": "stdout",
     "output_type": "stream",
     "text": [
      "t_max = 9\n",
      "l = 3\n"
     ]
    }
   ],
   "source": [
    "i_max = max(t_max_l, key=t_max_l.get)\n",
    "t_max = t_max_l[i_max]\n",
    "#i_max = max(range(len(t_max_l)), key=t_max_l.__getitem__)\n",
    "print(f't_max = {t_max}')\n",
    "print(f'l = {i_max}')"
   ]
  },
  {
   "cell_type": "code",
   "execution_count": 17,
   "id": "3461a724",
   "metadata": {},
   "outputs": [
    {
     "name": "stdout",
     "output_type": "stream",
     "text": [
      "(a + 1, a^3 + a^2 + a, a + 1, a, a^3, a^3, a^3 + a^2 + a + 1, a^2 + a + 1, a, a, a^3 + a, a^3 + a^2, 1, 0, a^2 + a + 1)\n",
      "(a^2, a^3 + a^2 + 1, a^2, a^2 + 1, a^3 + a, a^3 + a, a^3 + a^2, a^2 + a, a^2 + 1, a^2 + 1, a^3 + a^2 + a + 1, a^3, 1, 0, a^2 + a)\n"
     ]
    }
   ],
   "source": [
    "print(y.apply_map(lambda x: x^2))\n",
    "print(y)"
   ]
  },
  {
   "cell_type": "markdown",
   "id": "53e6ee70",
   "metadata": {},
   "source": [
    "### Task 3.2\n",
    "Complete the function Power_dec() for power decoding algorithm."
   ]
  },
  {
   "cell_type": "code",
   "execution_count": 18,
   "id": "50dbb7b0",
   "metadata": {},
   "outputs": [],
   "source": [
    "def Power_dec(F, k, y, t_max, i_max):\n",
    "    \"\"\"\n",
    "    Perform power decoding for a received RS codeword. i.e. construct a virtual IRS by\n",
    "    powering the RS codeword, then do IRS decoding.\n",
    "    Inputs:\n",
    "        F: the finite field\n",
    "        k: the dimension of the RS code\n",
    "        y: the received RS codewords\n",
    "        t_max: the maximum decoding radius\n",
    "        i_max: the sufficient virtual interleaving order to obtain tmax\n",
    "    \"\"\"\n",
    "    L = [a^i for i in range(n)] # evaluation points for RS code construction\n",
    "    s_vec = [] # list of syndromes of virtual IRS code\n",
    "    for i in range(1, i_max + 1):\n",
    "    # The power decoding algorithm has to do the following steps:\n",
    "        # Calculate element-wise power of the received word\n",
    "        y_i = y.apply_map(lambda x: x^i)\n",
    "\n",
    "        # Calculate the dimensions of virtual codes\n",
    "        k_i = i * (k - 1) + 1\n",
    "        RS_i = codes.GeneralizedReedSolomonCode(L, k_i)\n",
    "\n",
    "        # Calculate original syndrome and virtual syndromes\n",
    "        H_i = RS_i.parity_check_matrix()\n",
    "        s_vec.append(y_i * H_i.transpose())\n",
    "    # Calculate the error locations using irs_decoding()\n",
    "    [errloc, t] = irs_decoding(F, t_max, s_vec)\n",
    "\n",
    "    return errloc, t"
   ]
  },
  {
   "cell_type": "code",
   "execution_count": 19,
   "id": "0ba32a11",
   "metadata": {},
   "outputs": [
    {
     "name": "stdout",
     "output_type": "stream",
     "text": [
      "Error positions of virtual extension:\n",
      " [0, 2, 3, 4, 6, 9, 11, 13, 14]\n"
     ]
    }
   ],
   "source": [
    "errloc, t = Power_dec(F, k, y, t_max, i_max)\n",
    "errloc.sort()\n",
    "assert errloc == [0,2,3,4,6,9,11,13,14], \"Error locations are wrong.\"\n",
    "print('Error positions of virtual extension:\\n %s' % errloc)"
   ]
  },
  {
   "cell_type": "markdown",
   "id": "4c31e48d",
   "metadata": {},
   "source": [
    "## Problem 4: Decoding Failure\n",
    "As discussed in the lecture, the virtual interleaving principle can results in a decoding failure"
   ]
  },
  {
   "cell_type": "markdown",
   "id": "4cda7df8",
   "metadata": {},
   "source": [
    "### Task 4.1\n",
    "Run power decoding over 1000 random error vectors of length 15 and weight $t_{max}$ and calculate the failure probability of power decoding.\n",
    "\n",
    "*Hint: adapt the function irs_decoding() to raise an error when the decoding fails.*"
   ]
  },
  {
   "cell_type": "code",
   "execution_count": 20,
   "id": "b39a51e4",
   "metadata": {},
   "outputs": [],
   "source": [
    "import random\n",
    "\n",
    "def calculate_failure_chances(n, t_max, report=False):\n",
    "    iterations = 1000\n",
    "    fail = 0\n",
    "\n",
    "    pad_length = n - t_max\n",
    "   \n",
    "    it = 0\n",
    "    while it < iterations:\n",
    "\n",
    "        weight = 0\n",
    "        error = random_vector(F, n)\n",
    "        zeroes = error.list().count(0)\n",
    "        if zeroes != pad_length:\n",
    "            zero_pos = random.sample(range(n), pad_length-zeroes)\n",
    "            for j in  zero_pos:\n",
    "                if(error[j] != 0):\n",
    "                    error[j] = 0\n",
    "                else:\n",
    "                    error[random.sample(range(n), 1)[0]] = 0\n",
    "                    \n",
    "        for idx, element in enumerate(error.list()):\n",
    "            if element != 0:\n",
    "                weight += 1\n",
    "        \n",
    "        if weight != t_max:\n",
    "            #print(f'weigth > t_max:{weight}>{t_max}')\n",
    "            continue\n",
    "            \n",
    "        #print(error)\n",
    "        #print(weight)\n",
    "        y = c + error\n",
    "        \n",
    "        try:\n",
    "            Power_dec(F, k, y, t_max, i_max)\n",
    "        except:\n",
    "            fail += 1\n",
    "        it+=1\n",
    "        \n",
    "    if report:\n",
    "        print(f'{fail} Power decoding attempts from {iterations} failed')\n",
    "    return fail, it\n",
    "    # In each iteration, create a random error vector of weight t_max and add to\n",
    "    # the codeword generated in Task 3. Decode the erroneous word using power decoding\n",
    "    # and count decoding failures.\n",
    "    # Hint: use try-except to catch the errors."
   ]
  },
  {
   "cell_type": "code",
   "execution_count": 21,
   "id": "53f7a47a",
   "metadata": {},
   "outputs": [
    {
     "name": "stdout",
     "output_type": "stream",
     "text": [
      "70 Power decoding attempts from 1000 failed\n"
     ]
    }
   ],
   "source": [
    "fail, iteration = calculate_failure_chances(n, t_max, True)"
   ]
  },
  {
   "cell_type": "code",
   "execution_count": 22,
   "id": "2a48ab19",
   "metadata": {
    "scrolled": true
   },
   "outputs": [
    {
     "name": "stdout",
     "output_type": "stream",
     "text": [
      "Probability of failure: 7.0000 %\n",
      "Estimated probability of failure: 6.6667 %\n"
     ]
    }
   ],
   "source": [
    "# Calculate the decoding failure probability for error of weight tmax\n",
    "probfail = RealField(20)(100*fail/iteration)\n",
    "# Compare the result with the estimation from the lecture.\n",
    "probfail_est = RealField(20)(100*1/(q-1))\n",
    "print('Probability of failure: %s %%' % probfail)\n",
    "print('Estimated probability of failure: %s %%' % probfail_est)"
   ]
  },
  {
   "cell_type": "markdown",
   "id": "5911b68e",
   "metadata": {},
   "source": [
    "The results yield percentages in the range $(7,10)\\%$ which is not bad, but deviates from the expected value $6.6667\\%$. This can be because of some imperfections in the power decoding algorithm which may raise some exceptions which are treated as decoding failure erroneously."
   ]
  },
  {
   "cell_type": "code",
   "execution_count": 23,
   "id": "c64a62d8",
   "metadata": {},
   "outputs": [
    {
     "data": {
      "image/png": "[encoded data removed]",
      "text/plain": [
       "<Figure size 432x288 with 1 Axes>"
      ]
     },
     "metadata": {
      "needs_background": "light"
     },
     "output_type": "display_data"
    }
   ],
   "source": [
    "import matplotlib.pyplot as plt\n",
    "probs=[]\n",
    "runs = 100\n",
    "for run in range(runs):\n",
    "    try:\n",
    "        fail, iteration = calculate_failure_chances(n, t_max)\n",
    "    except:\n",
    "        continue\n",
    "    probfail = RealField(20)(100*fail/iteration)\n",
    "    probs.append(probfail)\n",
    "\n",
    "counts, bins, _ = plt.hist(probs, bins=20)\n",
    "plt.hist(probs, bins=bins)\n",
    "plt.show()"
   ]
  }
 ],
 "metadata": {
  "kernelspec": {
   "display_name": "SageMath 9.0",
   "language": "sage",
   "name": "sagemath"
  },
  "language_info": {
   "codemirror_mode": {
    "name": "ipython",
    "version": 3
   },
   "file_extension": ".py",
   "mimetype": "text/x-python",
   "name": "python",
   "nbconvert_exporter": "python",
   "pygments_lexer": "ipython3",
   "version": "3.8.10"
  }
 },
 "nbformat": 4,
 "nbformat_minor": 5
}
