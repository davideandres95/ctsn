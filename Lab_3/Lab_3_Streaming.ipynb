{
 "cells": [
  {
   "cell_type": "markdown",
   "id": "910a7c2c",
   "metadata": {},
   "source": [
    "# Lab 3: Streaming Codes for Low-Latency Network Communication"
   ]
  },
  {
   "cell_type": "markdown",
   "id": "bb8403c1",
   "metadata": {},
   "source": [
    "## Problem 1: Empirical Performance of Streaming Codes Over the Gilbert-Elliot (GE) Channel"
   ]
  },
  {
   "cell_type": "markdown",
   "id": "21509687",
   "metadata": {},
   "source": [
    "1. Implement the function GE(...) that generates a realization of the GE channel of\n",
    "length n for given channel parameters $\\alpha$, $\\beta$, $\\epsilon_0$ , $\\epsilon_1$."
   ]
  },
  {
   "cell_type": "code",
   "execution_count": 6,
   "id": "4b35ae49",
   "metadata": {},
   "outputs": [],
   "source": [
    "def GE(n, alpha, beta, eps0, eps1):\n",
    "    P_alpha = [1-alpha, alpha]\n",
    "    X_alpha = GeneralDiscreteDistribution(P_alpha)\n",
    "    \n",
    "    P_beta = [1-beta, beta]\n",
    "    X_beta = GeneralDiscreteDistribution(P_beta)\n",
    "    \n",
    "    P_eps0 = [1-eps0, eps0]\n",
    "    X_eps0 = GeneralDiscreteDistribution(P_eps0)\n",
    "    \n",
    "    P_eps1 = [1-eps1, eps1]\n",
    "    X_eps1 = GeneralDiscreteDistribution(P_eps1)\n",
    "    \n",
    "    sequence = []\n",
    "    S = 0\n",
    "    for i in range(0, n):\n",
    "        if S == 1:\n",
    "            sequence.append(X_eps1.get_random_element())\n",
    "            if X_beta.get_random_element():\n",
    "                S = 0\n",
    "        elif S == 0:\n",
    "            sequence.append(X_eps0.get_random_element())\n",
    "            if X_alpha.get_random_element():\n",
    "                S = 1\n",
    "    return sequence\n",
    "\n",
    "def expected_erasures(n, alpha, beta, eps0, eps1):\n",
    "    expected_good_states = n * beta / (alpha + beta)\n",
    "    expected_bad_states = n - expected_good_states\n",
    "    \n",
    "    return expected_good_states * eps0 + expected_bad_states * eps1"
   ]
  },
  {
   "cell_type": "code",
   "execution_count": 8,
   "id": "0f9b53d2",
   "metadata": {},
   "outputs": [
    {
     "name": "stdout",
     "output_type": "stream",
     "text": [
      "observed number of erasures: 6702\n",
      "expected number of erasures: 6700\n"
     ]
    }
   ],
   "source": [
    "test_params = {\"n\": 100000, \"alpha\": 0.2, \"beta\": 0.1, \"eps0\": 1e-3, \"eps1\": 0.1}\n",
    "# print(GE(**test_params))\n",
    "print(f\"observed number of erasures: {sum(GE(**test_params))}\")\n",
    "print(f\"expected number of erasures: {round(expected_erasures(**test_params))}\")"
   ]
  },
  {
   "cell_type": "markdown",
   "id": "039a65ae",
   "metadata": {},
   "source": [
    "2. Implement a function MT(...) that outputs the generator matrix of an $(n, k)$ Martinian-\n",
    "Trott block code based on given code parameters $T$, $B$, and $N$ , where $B < T$."
   ]
  },
  {
   "cell_type": "code",
   "execution_count": 9,
   "id": "0372a2d0",
   "metadata": {},
   "outputs": [],
   "source": [
    "from itertools import chain\n",
    "\n",
    "# You can use the following helper functions.\n",
    "\n",
    "\"\"\"\n",
    "    Finds a subset (including repeat elements) of ascending_list that sums to target_sum.\n",
    "    n is only used for the recursion and should be set to len(ascending_list).\n",
    "\"\"\"\n",
    "def subset_sum(ascending_list, n, target_sum):\n",
    "    if target_sum <= 0:\n",
    "        return []\n",
    "    if n ==0:\n",
    "        return None\n",
    "    if ascending_list[n-1] > target_sum:\n",
    "        return subset_sum(ascending_list, n-1, target_sum)\n",
    "    \n",
    "    potential_subsol_1 = subset_sum(ascending_list, n-1, target_sum)\n",
    "    if potential_subsol_1 is not None:\n",
    "        return potential_subsol_1\n",
    "    \n",
    "    potential_subsol_2 = subset_sum(ascending_list, n-1, target_sum-ascending_list[n-1])\n",
    "    if potential_subsol_2 is not None:\n",
    "        return [ascending_list[n-1]] + potential_subsol_2\n",
    "    \n",
    "    return None\n",
    "\n",
    "\n",
    "\n",
    "\"\"\"\n",
    "    Finds a polynomial of specified degree that divides poly.\n",
    "    If none exist, returns None.\n",
    "\"\"\"\n",
    "def find_factorpoly_of_degree(poly, degree):\n",
    "    all_factors = list(factor(poly))\n",
    "    \n",
    "    # list of degrees of factors (factors with higher multiplicity have their degrees included multiple times)\n",
    "    degree_list = list(chain(*[[f[0].degree()]*f[1] for f in all_factors]))\n",
    "    \n",
    "    degrees = subset_sum(degree_list, len(degree_list), degree)\n",
    "    \n",
    "    if degrees is None: return None\n",
    "    \n",
    "    included_polys = []\n",
    "    for deg in degrees:\n",
    "        for i in range(len(all_factors)):\n",
    "            poly, multiplicity = all_factors[i]\n",
    "            if poly.degree() == deg and multiplicity > 0:\n",
    "                included_polys.append(poly)\n",
    "                all_factors[i] = poly, multiplicity - 1\n",
    "                break\n",
    "                \n",
    "    if not included_polys: return None\n",
    "    \n",
    "    return prod(included_polys)\n",
    "\n",
    "\"\"\"\n",
    "    Finds a genreator polynomial for a cyclic code with minimal field size for given n and k.\n",
    "    returns the field size and a genrator polynomial.\n",
    "\"\"\"\n",
    "def find_cyclic_generator_poly(n, k):\n",
    "    \n",
    "    assert n > k\n",
    "    \n",
    "    # we increment the field size starting from 2 until we find a suitable polynomial\n",
    "    q = 2\n",
    "    while gcd(n, q) != 1: # Sage only implements codes fulfilling gcd(n, q) = 1\n",
    "        q = q.next_prime_power()\n",
    "    \n",
    "    F.<x> = GF(q)[]\n",
    "    \n",
    "    # the condition that has to be met is that the polynomial divides x**n-1 - 1\n",
    "    # and is of degree n-k\n",
    "    gen_poly = find_factorpoly_of_degree(x**n-1, n-k)\n",
    "\n",
    "    while gen_poly is None:\n",
    "        q = q.next_prime_power()\n",
    "        while gcd(n, q) != 1:\n",
    "            q = q.next_prime_power()\n",
    "            print(q)\n",
    "        F.<x> = GF(q)[]\n",
    "        gen_poly = find_factorpoly_of_degree(x**n-1, n-k)\n",
    "    \n",
    "    return gen_poly, q"
   ]
  },
  {
   "cell_type": "code",
   "execution_count": 10,
   "id": "0c39e17e",
   "metadata": {},
   "outputs": [],
   "source": [
    "def MT(T, B, N=1):\n",
    "    gen_poly, q = find_cyclic_generator_poly(T, T-B)\n",
    "    F.<x> = GF(q)[]\n",
    "    C = codes.CyclicCode(generator_pol = gen_poly, length = T)\n",
    "    gen_matrix = C.systematic_generator_matrix()\n",
    "    I_B_B = identity_matrix(F,B)\n",
    "    Zero_B_TminusB = zero_matrix(F, B, T-B);\n",
    "    Zero_TminusB_B = zero_matrix(F, T-B, B);\n",
    "    top_sub_matrix = identity_matrix(F, B).augment(Zero_B_TminusB).augment(identity_matrix(F, B))\n",
    "    bottom_sub_matrix = Zero_TminusB_B.augment(gen_matrix)\n",
    "    return top_sub_matrix.stack(bottom_sub_matrix)"
   ]
  },
  {
   "cell_type": "code",
   "execution_count": 11,
   "id": "8668d2ac",
   "metadata": {},
   "outputs": [
    {
     "data": {
      "text/plain": [
       "[     1      0      0      0      0      1      0      0]\n",
       "[     0      1      0      0      0      0      1      0]\n",
       "[     0      0      1      0      0      0      0      1]\n",
       "[     0      0      0      1      0      1 z2 + 1 z2 + 1]\n",
       "[     0      0      0      0      1 z2 + 1 z2 + 1      1]"
      ]
     },
     "execution_count": 11,
     "metadata": {},
     "output_type": "execute_result"
    }
   ],
   "source": [
    "MT(5,3)"
   ]
  },
  {
   "cell_type": "markdown",
   "id": "dce5cc93",
   "metadata": {},
   "source": [
    "3.  Implement a function Domanovitz(...) that outputs the generator matrix of a random $(n,k)$ Domanovitz block code in $\\mathbb{F}_{q^2}$ based on given code parameters $T,B,N$, and $q$. _Hint: Generate a random matrix whose structure is consistent with the generator matrix of a Domanovitz code, and check if the sub-matrices $G_1$ and $G_2$ satisfy the MDS property. Keep generating such random matrices until a valid generator matrix is found._"
   ]
  },
  {
   "cell_type": "code",
   "execution_count": 12,
   "id": "d0a7e58b",
   "metadata": {},
   "outputs": [],
   "source": [
    "from collections import deque\n",
    "\n",
    "def get_domanovitz_candidate(T, B, N, q):\n",
    "    F = GF(q)\n",
    "    k = T-N+1\n",
    "    n = k+B\n",
    "    G1_rows = []\n",
    "    for _ in range(k):\n",
    "        non_zero_elements = [1]\n",
    "        for i in range(N-1):\n",
    "            non_zero_elements.append(F.random_element())\n",
    "        elements = non_zero_elements + ([0] * (k-1))\n",
    "        items = deque(elements)\n",
    "        items.rotate(_)\n",
    "        G1_rows.append(items)\n",
    "    G_1 = matrix(GF(q^2), [*G1_rows])\n",
    "    G_3 = identity_matrix(GF(q^2), B-N+1)*GF(q^2).random_element()\n",
    "    G_2 = matrix(GF(q^2), random_matrix(F, B-N+1))\n",
    "    return G_1.augment(G_3.stack(G_2))\n",
    "\n",
    "def Domanovitz(T, B, N, q):\n",
    "    k = T-N+1\n",
    "    n = k+B\n",
    "    i=0\n",
    "    while(i < 100):\n",
    "        candidate = get_domanovitz_candidate(T,B,N,q)\n",
    "        #print(candidate)\n",
    "        G_1 = matrix(GF(q),candidate.submatrix(0,0,k,k+N-1))\n",
    "        #print(G_1)\n",
    "        test_G_1 = LinearCode(G_1).minimum_distance()\n",
    "        d_G_1 = G_1.ncols()-G_1.nrows()+1\n",
    "        if not (test_G_1 == d_G_1):\n",
    "            continue\n",
    "        G_2_nrows = k - (B-N+1)\n",
    "        G_2_ncols = n - (B-N+1)\n",
    "        G_2 = matrix(GF(q), candidate.submatrix(candidate.nrows()-G_2_nrows, candidate.ncols()-G_2_ncols, G_2_nrows, G_2_ncols))\n",
    "        #print(G_2)\n",
    "        test_G_2 = LinearCode(G_2).minimum_distance()\n",
    "        d_G_2 = G_2.ncols()-G_2.nrows()+1\n",
    "        if (test_G_2 == d_G_2):\n",
    "            return candidate\n",
    "        i += 1\n",
    "    print('No matrix was found after 100 attempts')\n",
    "    return None"
   ]
  },
  {
   "cell_type": "code",
   "execution_count": 13,
   "id": "5bd2ee6c",
   "metadata": {},
   "outputs": [
    {
     "data": {
      "text/plain": [
       "[       1        6        8        0        0        0 8*z2 + 2        0]\n",
       "[       0        1        7        6        0        0        0 8*z2 + 2]\n",
       "[       0        0        1        2        3        0       10        5]\n",
       "[       0        0        0        1        6        1        8        5]"
      ]
     },
     "execution_count": 13,
     "metadata": {},
     "output_type": "execute_result"
    }
   ],
   "source": [
    "Domanovitz(6, 4, 3, 11)"
   ]
  },
  {
   "cell_type": "markdown",
   "id": "f14d9f81",
   "metadata": {},
   "source": [
    "4. Plot the BEP of the codes in Table 1 as a function of $\\epsilon_0\\in [10^{-3},10^{-2}]$, for: \n",
    " * i) $\\alpha=   1\\times 10^{-2}$, $\\beta=0.3$, $\\epsilon_1=1$; \n",
    " * ii)  $\\alpha= 1\\times 10^{-2}$, $\\beta=0.5$, $\\epsilon_1=1$; and \n",
    " * iii)  $\\alpha=8\\times 10^{-2}$, $\\beta=0.5$, $\\epsilon_1=1$. \n",
    " \n",
    " You shall show a total of 3 graphs."
   ]
  },
  {
   "cell_type": "code",
   "execution_count": null,
   "id": "bb9d00ed",
   "metadata": {},
   "outputs": [],
   "source": [
    "from matplotlib import pyplot as plt\n",
    "\n",
    "\n"
   ]
  },
  {
   "cell_type": "markdown",
   "id": "abccdac6",
   "metadata": {},
   "source": [
    "5. Plot the PLP of the codes in Table 1 for the same settings mentioned in the part 4. \n",
    "   \n",
    "   _Hint: A source symbol $u_i$ can be decoded iff the $i$-th canonical basis vector is in the column span of the punctured generator matrix (i.e. the generator matrix with the columns corresponding to erasures removed)._"
   ]
  },
  {
   "cell_type": "code",
   "execution_count": null,
   "id": "88e12552",
   "metadata": {},
   "outputs": [],
   "source": []
  },
  {
   "cell_type": "markdown",
   "id": "24270c77",
   "metadata": {},
   "source": [
    "6. Interpret the results in parts 4 and 5."
   ]
  },
  {
   "cell_type": "code",
   "execution_count": null,
   "id": "9ef92f69",
   "metadata": {},
   "outputs": [],
   "source": []
  }
 ],
 "metadata": {
  "@webio": {
   "lastCommId": null,
   "lastKernelId": null
  },
  "kernelspec": {
   "display_name": "SageMath 9.0",
   "language": "sage",
   "name": "sagemath"
  },
  "language_info": {
   "codemirror_mode": {
    "name": "ipython",
    "version": 3
   },
   "file_extension": ".py",
   "mimetype": "text/x-python",
   "name": "python",
   "nbconvert_exporter": "python",
   "pygments_lexer": "ipython3",
   "version": "3.8.10"
  }
 },
 "nbformat": 4,
 "nbformat_minor": 5
}
