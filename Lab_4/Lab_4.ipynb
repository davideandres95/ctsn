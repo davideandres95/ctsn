{
 "cells": [
  {
   "cell_type": "markdown",
   "id": "8a79f728",
   "metadata": {},
   "source": [
    "# Coding Theory for Storage and Networks\n",
    "### Lab on VT Codes\n",
    "Student: David de Andrés Hernández"
   ]
  },
  {
   "cell_type": "markdown",
   "id": "5b70a0a5",
   "metadata": {},
   "source": [
    "## Task 1: VT Decoding"
   ]
  },
  {
   "cell_type": "markdown",
   "id": "020ad175",
   "metadata": {},
   "source": [
    "Varshamov-Tenengolts (VT) codes have been shown to correct a single deletion or insertion error. In this task, we develop a binary VT decoder that corrects a single deletion or insertion error. We use a code of length n = 15 and checksum a = 0, i.e.\n",
    "$$\n",
    "\\mathcal{VT}_0(n) = \\{ c = (c_0, c_1, \\cdots , c_{n−1}) : \\sum_{i=0}^{n-1}(i+1)c_i \\equiv 0 \\text{ mod } (n+1) \\}\n",
    "$$"
   ]
  },
  {
   "cell_type": "code",
   "execution_count": 3,
   "id": "e3e109ca",
   "metadata": {},
   "outputs": [],
   "source": [
    "n = 15\n",
    "a = 0"
   ]
  },
  {
   "cell_type": "markdown",
   "id": "d5cdc207",
   "metadata": {},
   "source": [
    "1. Consider the codeword $c = (0, 1, 1, 0, 0, 0, 0, 1, 0, 1, 0, 1, 1, 0, 0)$. Check, if it is a valid \n",
    "codeword by computing its checksum"
   ]
  },
  {
   "cell_type": "code",
   "execution_count": 4,
   "id": "09813b8f",
   "metadata": {},
   "outputs": [
    {
     "name": "stdout",
     "output_type": "stream",
     "text": [
      "The codeword c is (0, 1, 1, 0, 0, 0, 0, 1, 0, 1, 0, 1, 1, 0, 0).\n",
      "c is a valid codeword.\n",
      "\n"
     ]
    }
   ],
   "source": [
    "c = vector(GF(2),[0, 1, 1, 0, 0, 0, 0, 1, 0, 1, 0, 1, 1, 0, 0])\n",
    "S = [mod(((idx + 1)* value ),(n+1)) for idx, value in enumerate(vector(ZZ, c))]\n",
    "S = mod(sum(S), n+1)\n",
    "\n",
    "print('The codeword c is %s.' % c)\n",
    "if S==0:\n",
    "    print('c is a valid codeword.\\n')\n",
    "\n"
   ]
  },
  {
   "cell_type": "markdown",
   "id": "804f1768",
   "metadata": {},
   "source": [
    "2. Implement a VT decoder(r, n) that can correct a single deletion or insertion."
   ]
  },
  {
   "cell_type": "code",
   "execution_count": 376,
   "id": "b5039d28",
   "metadata": {},
   "outputs": [],
   "source": [
    "# Implement a VT_decoder(r,n) that can correct a single deletion or insertion.\n",
    "def VT_Decoder(r, n):\n",
    "    \"\"\"\n",
    "    Binary Varshamov-Tenengolts decoder for a single deletion\n",
    "    Inputs:\n",
    "        r: received word\n",
    "        n: length of the code\n",
    "    Ouput: \n",
    "        c_hat: extimated codeword\n",
    "        pos: where deletion or insertion happens\n",
    "        err_type: \"deletion\" or \"insertion\"\n",
    "    \"\"\"\n",
    "    # ========\n",
    "    # Block of your implementation\n",
    "    S = sum([mod(((idx + 1)* value ),(n+1)) for idx, value in enumerate(vector(ZZ, r))])\n",
    "    print(f'The checksum of r is {S}')\n",
    "    w = r.hamming_weight()\n",
    "    print(f'The weight of r is {w}')\n",
    "    p = -1\n",
    "    if len(r) < n: # decode single deletion\n",
    "        err_type = 'deletion'\n",
    "        S = -S\n",
    "        print(f'The deficiency S: {S} and weight w: {w}')\n",
    "        if int(S) <= int(w): # s=0\n",
    "            # print('s = 0')\n",
    "            s = 0\n",
    "            R1 = S\n",
    "            ones=0\n",
    "            for i in range(len(r)-1, -1, -1):\n",
    "                # print(f'counted 1s: {ones}')\n",
    "                # print(f'r[{i}]: {r[i]}')\n",
    "                # print(f'weight to the right: {r[i:].hamming_weight()}')\n",
    "                if r[i:].hamming_weight() == R1:\n",
    "                    p = i\n",
    "                    break\n",
    "            r = r.list()\n",
    "            r.insert(p, s)\n",
    "            c_hat = vector(GF(2), r)\n",
    "        else: # s=1\n",
    "            s = 1\n",
    "            L0 = S - w - 1\n",
    "            for i in range(r):\n",
    "                if(list(r[:i]).count(0)== L0):\n",
    "                    p = i\n",
    "                    break\n",
    "            r = list(r)\n",
    "            r.insert(p, s)\n",
    "    elif len(r) > n: # decode single insertion\n",
    "        err_type = 'insertion'\n",
    "        print(f'The surplus S: {S} and weight w: {w}')\n",
    "        if int(S) == int(w):\n",
    "            r = list(r)\n",
    "            r.pop(0)\n",
    "            p = 0\n",
    "        elif int(S) < int(w):\n",
    "            print('s = 0')\n",
    "            R1 = S\n",
    "            for i in range(len(r)-1, -1, -1):\n",
    "                if r[i:].hamming_weight() == R1:\n",
    "                    p = i\n",
    "                    break\n",
    "            for j in range(int(p), -1, -1):\n",
    "                print(f'j: {j}')\n",
    "                if ( r[j] == 0):\n",
    "                    p = j\n",
    "                    r = list(r)\n",
    "                    r.pop(p)\n",
    "                    break\n",
    "        else:\n",
    "            print('s = 1')\n",
    "            s = 1\n",
    "            L0 = S - w\n",
    "            for i in range(len(r)):\n",
    "                if(list(r[:i]).count(0)== L0):\n",
    "                    p = i\n",
    "                    break\n",
    "            for j in range(int(p), len(r)):\n",
    "                if ( r[j] == 1):\n",
    "                    p = j\n",
    "                    r = list(r)\n",
    "                    r.pop(p)\n",
    "                    break\n",
    "    c_hat = vector(GF(2), r)\n",
    "    print(f'position p = {p}')\n",
    "    print(f'c_hat = {c_hat}')\n",
    "    \n",
    "    return c_hat, p, err_type\n"
   ]
  },
  {
   "cell_type": "markdown",
   "id": "151703a2",
   "metadata": {},
   "source": [
    "3. (a) A random deletion occurs to the codeword c resulting in $r_{del} \\in \\mathbb{F}_{n−1}^2$. Correct the error using your VT decoder().\n",
    "(b) A random insertion occurs to the codeword c resulting in $r_{ins} \\in \\mathbb{F}_{n−1}^2$. Correct the error using your VT decoder()."
   ]
  },
  {
   "cell_type": "code",
   "execution_count": 404,
   "id": "d0080787",
   "metadata": {},
   "outputs": [
    {
     "name": "stdout",
     "output_type": "stream",
     "text": [
      "Received word with insertion 1 at position 1 is \n",
      "(0, 1, 1, 1, 0, 0, 0, 0, 1, 0, 1, 0, 1, 1, 0, 0).\n",
      "\n",
      "The checksum of r is 8\n",
      "The weight of r is 7\n",
      "The surplus S: 8 and weight w: 7\n",
      "s = 1\n",
      "position p = 1\n",
      "c_hat = (0, 1, 1, 0, 0, 0, 0, 1, 0, 1, 0, 1, 1, 0, 0)\n",
      "Insertion is decoded corretly.\n",
      "\n"
     ]
    }
   ],
   "source": [
    "# (2) A random insertion occurs to the codeword c. Correct the error using your VT_decoder. \n",
    "# A random insertion occurs\n",
    "ins_pos = randint(0, n-1)\n",
    "ins_val = GF(2).random_element()\n",
    "r_ins = vector(c[:ins_pos].list()+[ins_val]+c[ins_pos:].list())\n",
    "print('Received word with insertion %s at position %s is \\n%s.\\n' % (ins_val, ins_pos, r_ins))\n",
    "\n",
    "# Correct the error and find the postion and type of the error\n",
    "c_hat, pos, err_type = VT_Decoder(r_ins, n)\n",
    "\n",
    "assert c_hat == c, \"Decoding of insertion is not correct.\\n\"\n",
    "print('Insertion is decoded corretly.\\n')"
   ]
  },
  {
   "cell_type": "code",
   "execution_count": 313,
   "id": "51c9409d",
   "metadata": {},
   "outputs": [
    {
     "name": "stdout",
     "output_type": "stream",
     "text": [
      "Received word with deletion at position 9 \n",
      "is (0, 1, 1, 0, 0, 0, 0, 1, 0, 0, 1, 1, 0, 0).\n",
      "\n",
      "The checksum of r is 4\n",
      "The weight of r is 5\n",
      "The deficiency S: 12 and weight w: 5\n",
      "position p = 9\n",
      "c_hat = (0, 1, 1, 0, 0, 0, 0, 1, 0, 1, 0, 1, 1, 0, 0)\n",
      "Deletion is decoded correctly.\n",
      "\n"
     ]
    }
   ],
   "source": [
    "# (1) A random deletion occurs to the codeword c. Correct the error using your VT_decoder. \n",
    "# A random deletion occurs\n",
    "del_pos = randint(0, n-1)\n",
    "r_del = c.list()\n",
    "r_del.pop(del_pos) # del r_del[del_pos] # alternative\n",
    "r_del = vector(r_del)\n",
    "print('Received word with deletion at position %s \\nis %s.\\n' % (del_pos, r_del))\n",
    "\n",
    "# Correct the error and find the postion and type of the error\n",
    "c_hat, pos, err_type = VT_Decoder(r_del, n)\n",
    "\n",
    "assert c_hat == c, \"Decoding of deletion is not correct.\\n\"\n",
    "print('Deletion is decoded correctly.\\n')"
   ]
  }
 ],
 "metadata": {
  "kernelspec": {
   "display_name": "SageMath 9.0",
   "language": "sage",
   "name": "sagemath"
  },
  "language_info": {
   "codemirror_mode": {
    "name": "ipython",
    "version": 3
   },
   "file_extension": ".py",
   "mimetype": "text/x-python",
   "name": "python",
   "nbconvert_exporter": "python",
   "pygments_lexer": "ipython3",
   "version": "3.8.10"
  }
 },
 "nbformat": 4,
 "nbformat_minor": 5
}
